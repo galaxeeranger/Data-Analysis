{
 "cells": [
  {
   "cell_type": "markdown",
   "id": "ffba9ca3",
   "metadata": {
    "papermill": {
     "duration": 0.033195,
     "end_time": "2022-02-16T13:08:45.753186",
     "exception": false,
     "start_time": "2022-02-16T13:08:45.719991",
     "status": "completed"
    },
    "tags": []
   },
   "source": [
    "PROBLEM DESCRIPTION\n",
    "\n",
    "This notebook demostrates a sequence classification of Fruit Lover Collection dataset by doing comparative Supervised Machine Learning Algorithms based classifier.\n",
    "\n",
    "Each fruit have a Name, Color, Mass, Width, Height that must be classifeid. Thsi is small data set (reffered as fruitlovercollection dataset) with 60 Rows and 7 Columns which contains 4 Type of Fruits such as 'Apple','Mandarin', 'Orange','Lemon' which has 8 fruit Subtype : 'granny_smith', 'mandarin', 'braeburn', 'golden_delicious', 'cripps_pink',\n",
    " 'spanish_jumbo', 'selected_seconds', 'turkey_navel', 'spanish_belsan' and 'unknown'. \n",
    " The problem is deciding whether a given fruit is 'Apple','Mandarin', 'Orange','Lemon'. The data were collected by a researcher and that used 70-30 data for training and testing and get the accuracy."
   ]
  },
  {
   "cell_type": "markdown",
   "id": "ec548e1e",
   "metadata": {
    "papermill": {
     "duration": 0.030412,
     "end_time": "2022-02-16T13:08:45.815084",
     "exception": false,
     "start_time": "2022-02-16T13:08:45.784672",
     "status": "completed"
    },
    "tags": []
   },
   "source": [
    "Import modules\n",
    "\n",
    "Let's start off with the basic step of importing all the relevant modules and functions required for this particular classifier."
   ]
  },
  {
   "cell_type": "code",
   "execution_count": 1,
   "id": "9ff757fe",
   "metadata": {
    "execution": {
     "iopub.execute_input": "2022-02-16T13:08:45.888786Z",
     "iopub.status.busy": "2022-02-16T13:08:45.888102Z",
     "iopub.status.idle": "2022-02-16T13:08:47.250722Z",
     "shell.execute_reply": "2022-02-16T13:08:47.251357Z",
     "shell.execute_reply.started": "2022-02-16T13:00:23.364073Z"
    },
    "papermill": {
     "duration": 1.405583,
     "end_time": "2022-02-16T13:08:47.251697",
     "exception": false,
     "start_time": "2022-02-16T13:08:45.846114",
     "status": "completed"
    },
    "tags": []
   },
   "outputs": [],
   "source": [
    "import pandas as pd   # to load dataset\n",
    "import matplotlib.pyplot as plt\n",
    "import seaborn as sns \n",
    "import pylab as pl\n",
    "from sklearn.model_selection import train_test_split   # for splitting dataset\n",
    "from sklearn.preprocessing import MinMaxScaler  # for scaling\n",
    "from sklearn.linear_model import LogisticRegression   # machine learning lib/model, # get accuracy by Logistic regression\n",
    "from sklearn.tree import DecisionTreeClassifier  # get accuracy by Decision Tree classifier\n",
    "from sklearn.neighbors import KNeighborsClassifier  # get accuracy by KNN classifier\n",
    "from sklearn.naive_bayes import GaussianNB # get accuracy by GNB classifier"
   ]
  },
  {
   "cell_type": "markdown",
   "id": "1acfb977",
   "metadata": {
    "papermill": {
     "duration": 0.03038,
     "end_time": "2022-02-16T13:08:47.312918",
     "exception": false,
     "start_time": "2022-02-16T13:08:47.282538",
     "status": "completed"
    },
    "tags": []
   },
   "source": [
    "Firstly, let's learn about our dataset. For this we need to import the data and convert it into a Pandas' dataframe."
   ]
  },
  {
   "cell_type": "code",
   "execution_count": 2,
   "id": "82b43dca",
   "metadata": {
    "execution": {
     "iopub.execute_input": "2022-02-16T13:08:47.378464Z",
     "iopub.status.busy": "2022-02-16T13:08:47.377833Z",
     "iopub.status.idle": "2022-02-16T13:08:47.415868Z",
     "shell.execute_reply": "2022-02-16T13:08:47.416354Z",
     "shell.execute_reply.started": "2022-02-16T13:00:24.946426Z"
    },
    "papermill": {
     "duration": 0.072508,
     "end_time": "2022-02-16T13:08:47.416530",
     "exception": false,
     "start_time": "2022-02-16T13:08:47.344022",
     "status": "completed"
    },
    "tags": []
   },
   "outputs": [
    {
     "data": {
      "text/html": [
       "<div>\n",
       "<style scoped>\n",
       "    .dataframe tbody tr th:only-of-type {\n",
       "        vertical-align: middle;\n",
       "    }\n",
       "\n",
       "    .dataframe tbody tr th {\n",
       "        vertical-align: top;\n",
       "    }\n",
       "\n",
       "    .dataframe thead th {\n",
       "        text-align: right;\n",
       "    }\n",
       "</style>\n",
       "<table border=\"1\" class=\"dataframe\">\n",
       "  <thead>\n",
       "    <tr style=\"text-align: right;\">\n",
       "      <th></th>\n",
       "      <th>fruit_label</th>\n",
       "      <th>fruit_name</th>\n",
       "      <th>fruit_subtype</th>\n",
       "      <th>mass</th>\n",
       "      <th>width</th>\n",
       "      <th>height</th>\n",
       "      <th>color_score</th>\n",
       "    </tr>\n",
       "  </thead>\n",
       "  <tbody>\n",
       "    <tr>\n",
       "      <th>0</th>\n",
       "      <td>1</td>\n",
       "      <td>apple</td>\n",
       "      <td>granny_smith</td>\n",
       "      <td>192</td>\n",
       "      <td>8.4</td>\n",
       "      <td>7.3</td>\n",
       "      <td>0.55</td>\n",
       "    </tr>\n",
       "    <tr>\n",
       "      <th>1</th>\n",
       "      <td>1</td>\n",
       "      <td>apple</td>\n",
       "      <td>granny_smith</td>\n",
       "      <td>180</td>\n",
       "      <td>8.0</td>\n",
       "      <td>6.8</td>\n",
       "      <td>0.59</td>\n",
       "    </tr>\n",
       "    <tr>\n",
       "      <th>2</th>\n",
       "      <td>1</td>\n",
       "      <td>apple</td>\n",
       "      <td>granny_smith</td>\n",
       "      <td>176</td>\n",
       "      <td>7.4</td>\n",
       "      <td>7.2</td>\n",
       "      <td>0.60</td>\n",
       "    </tr>\n",
       "    <tr>\n",
       "      <th>3</th>\n",
       "      <td>2</td>\n",
       "      <td>mandarin</td>\n",
       "      <td>mandarin</td>\n",
       "      <td>86</td>\n",
       "      <td>6.2</td>\n",
       "      <td>4.7</td>\n",
       "      <td>0.80</td>\n",
       "    </tr>\n",
       "    <tr>\n",
       "      <th>4</th>\n",
       "      <td>2</td>\n",
       "      <td>mandarin</td>\n",
       "      <td>mandarin</td>\n",
       "      <td>84</td>\n",
       "      <td>6.0</td>\n",
       "      <td>4.6</td>\n",
       "      <td>0.79</td>\n",
       "    </tr>\n",
       "  </tbody>\n",
       "</table>\n",
       "</div>"
      ],
      "text/plain": [
       "   fruit_label fruit_name fruit_subtype  mass  width  height  color_score\n",
       "0            1      apple  granny_smith   192    8.4     7.3         0.55\n",
       "1            1      apple  granny_smith   180    8.0     6.8         0.59\n",
       "2            1      apple  granny_smith   176    7.4     7.2         0.60\n",
       "3            2   mandarin      mandarin    86    6.2     4.7         0.80\n",
       "4            2   mandarin      mandarin    84    6.0     4.6         0.79"
      ]
     },
     "execution_count": 2,
     "metadata": {},
     "output_type": "execute_result"
    }
   ],
   "source": [
    "fruits = pd.read_table('../input/fruit-data/fruit_data_with_colors.txt') #load data\n",
    "fruits.head()"
   ]
  },
  {
   "cell_type": "code",
   "execution_count": 3,
   "id": "4530d67a",
   "metadata": {
    "execution": {
     "iopub.execute_input": "2022-02-16T13:08:47.486843Z",
     "iopub.status.busy": "2022-02-16T13:08:47.486135Z",
     "iopub.status.idle": "2022-02-16T13:08:47.488825Z",
     "shell.execute_reply": "2022-02-16T13:08:47.489354Z",
     "shell.execute_reply.started": "2022-02-16T13:00:24.985097Z"
    },
    "papermill": {
     "duration": 0.040133,
     "end_time": "2022-02-16T13:08:47.489521",
     "exception": false,
     "start_time": "2022-02-16T13:08:47.449388",
     "status": "completed"
    },
    "tags": []
   },
   "outputs": [
    {
     "data": {
      "text/plain": [
       "(59, 7)"
      ]
     },
     "execution_count": 3,
     "metadata": {},
     "output_type": "execute_result"
    }
   ],
   "source": [
    "fruits.shape # count Rows and columns"
   ]
  },
  {
   "cell_type": "code",
   "execution_count": 4,
   "id": "2016ada9",
   "metadata": {
    "execution": {
     "iopub.execute_input": "2022-02-16T13:08:47.559666Z",
     "iopub.status.busy": "2022-02-16T13:08:47.558874Z",
     "iopub.status.idle": "2022-02-16T13:08:47.569785Z",
     "shell.execute_reply": "2022-02-16T13:08:47.570292Z",
     "shell.execute_reply.started": "2022-02-16T13:00:24.992809Z"
    },
    "papermill": {
     "duration": 0.048742,
     "end_time": "2022-02-16T13:08:47.570469",
     "exception": false,
     "start_time": "2022-02-16T13:08:47.521727",
     "status": "completed"
    },
    "tags": []
   },
   "outputs": [
    {
     "name": "stdout",
     "output_type": "stream",
     "text": [
      "['apple' 'mandarin' 'orange' 'lemon']\n"
     ]
    }
   ],
   "source": [
    "print(fruits['fruit_name'].unique()) # unique fruits name"
   ]
  },
  {
   "cell_type": "code",
   "execution_count": 5,
   "id": "bf8132bc",
   "metadata": {
    "execution": {
     "iopub.execute_input": "2022-02-16T13:08:47.643011Z",
     "iopub.status.busy": "2022-02-16T13:08:47.641956Z",
     "iopub.status.idle": "2022-02-16T13:08:47.648506Z",
     "shell.execute_reply": "2022-02-16T13:08:47.649219Z",
     "shell.execute_reply.started": "2022-02-16T13:00:25.013703Z"
    },
    "papermill": {
     "duration": 0.042845,
     "end_time": "2022-02-16T13:08:47.649449",
     "exception": false,
     "start_time": "2022-02-16T13:08:47.606604",
     "status": "completed"
    },
    "tags": []
   },
   "outputs": [
    {
     "name": "stdout",
     "output_type": "stream",
     "text": [
      "['granny_smith' 'mandarin' 'braeburn' 'golden_delicious' 'cripps_pink'\n",
      " 'spanish_jumbo' 'selected_seconds' 'turkey_navel' 'spanish_belsan'\n",
      " 'unknown']\n"
     ]
    }
   ],
   "source": [
    "print(fruits['fruit_subtype'].unique()) # unique fruit subtype"
   ]
  },
  {
   "cell_type": "markdown",
   "id": "cf2a6f3d",
   "metadata": {
    "papermill": {
     "duration": 0.032619,
     "end_time": "2022-02-16T13:08:47.715803",
     "exception": false,
     "start_time": "2022-02-16T13:08:47.683184",
     "status": "completed"
    },
    "tags": []
   },
   "source": [
    "The total fruit counts by Fruits Name"
   ]
  },
  {
   "cell_type": "code",
   "execution_count": 6,
   "id": "4cd6ecad",
   "metadata": {
    "execution": {
     "iopub.execute_input": "2022-02-16T13:08:47.785558Z",
     "iopub.status.busy": "2022-02-16T13:08:47.784606Z",
     "iopub.status.idle": "2022-02-16T13:08:47.797960Z",
     "shell.execute_reply": "2022-02-16T13:08:47.798820Z",
     "shell.execute_reply.started": "2022-02-16T13:00:25.028573Z"
    },
    "papermill": {
     "duration": 0.050031,
     "end_time": "2022-02-16T13:08:47.799061",
     "exception": false,
     "start_time": "2022-02-16T13:08:47.749030",
     "status": "completed"
    },
    "tags": []
   },
   "outputs": [
    {
     "name": "stdout",
     "output_type": "stream",
     "text": [
      "fruit_name\n",
      "apple       19\n",
      "lemon       16\n",
      "mandarin     5\n",
      "orange      19\n",
      "dtype: int64\n"
     ]
    }
   ],
   "source": [
    "import pandas as pd \n",
    "import matplotlib.pyplot as pt\n",
    "\n",
    "fruits = pd.read_table('../input/fruit-data/fruit_data_with_colors.txt') #load data\n",
    "fruits.head()\n",
    "\n",
    "print(fruits.groupby('fruit_name').size())  # size of unique values"
   ]
  },
  {
   "cell_type": "markdown",
   "id": "6656a1c4",
   "metadata": {
    "papermill": {
     "duration": 0.033872,
     "end_time": "2022-02-16T13:08:47.867363",
     "exception": false,
     "start_time": "2022-02-16T13:08:47.833491",
     "status": "completed"
    },
    "tags": []
   },
   "source": [
    "The data can be visualized by using features of matplotlib & Seaborn library. By doing so, we can get the following results,"
   ]
  },
  {
   "cell_type": "code",
   "execution_count": 7,
   "id": "3daa1c09",
   "metadata": {
    "execution": {
     "iopub.execute_input": "2022-02-16T13:08:47.941700Z",
     "iopub.status.busy": "2022-02-16T13:08:47.940974Z",
     "iopub.status.idle": "2022-02-16T13:08:48.148333Z",
     "shell.execute_reply": "2022-02-16T13:08:48.147784Z",
     "shell.execute_reply.started": "2022-02-16T13:00:25.053377Z"
    },
    "papermill": {
     "duration": 0.246961,
     "end_time": "2022-02-16T13:08:48.148480",
     "exception": false,
     "start_time": "2022-02-16T13:08:47.901519",
     "status": "completed"
    },
    "tags": []
   },
   "outputs": [
    {
     "name": "stderr",
     "output_type": "stream",
     "text": [
      "/opt/conda/lib/python3.7/site-packages/seaborn/_decorators.py:43: FutureWarning: Pass the following variable as a keyword arg: x. From version 0.12, the only valid positional argument will be `data`, and passing other arguments without an explicit keyword will result in an error or misinterpretation.\n",
      "  FutureWarning\n"
     ]
    },
    {
     "data": {
      "image/png": "[encoded data removed]",
      "text/plain": [
       "<Figure size 432x288 with 1 Axes>"
      ]
     },
     "metadata": {
      "needs_background": "light"
     },
     "output_type": "display_data"
    }
   ],
   "source": [
    "#count plot\n",
    "import matplotlib.pyplot as plt\n",
    "import seaborn as sns\n",
    "\n",
    "sns.countplot(fruits['fruit_name'],label='Count') # count plot\n",
    "plt.show()"
   ]
  },
  {
   "cell_type": "markdown",
   "id": "11efdabc",
   "metadata": {
    "papermill": {
     "duration": 0.035071,
     "end_time": "2022-02-16T13:08:48.217615",
     "exception": false,
     "start_time": "2022-02-16T13:08:48.182544",
     "status": "completed"
    },
    "tags": []
   },
   "source": [
    "Box plots are useful as they provide a visual summary of the data enabling researchers to quickly identify mean values."
   ]
  },
  {
   "cell_type": "code",
   "execution_count": 8,
   "id": "27842c58",
   "metadata": {
    "execution": {
     "iopub.execute_input": "2022-02-16T13:08:48.289840Z",
     "iopub.status.busy": "2022-02-16T13:08:48.289159Z",
     "iopub.status.idle": "2022-02-16T13:08:48.815418Z",
     "shell.execute_reply": "2022-02-16T13:08:48.815936Z",
     "shell.execute_reply.started": "2022-02-16T13:00:25.277094Z"
    },
    "papermill": {
     "duration": 0.564065,
     "end_time": "2022-02-16T13:08:48.816107",
     "exception": false,
     "start_time": "2022-02-16T13:08:48.252042",
     "status": "completed"
    },
    "tags": []
   },
   "outputs": [
    {
     "data": {
      "image/png": "[encoded data removed]",
      "text/plain": [
       "<Figure size 432x432 with 4 Axes>"
      ]
     },
     "metadata": {
      "needs_background": "light"
     },
     "output_type": "display_data"
    }
   ],
   "source": [
    "#box plot\n",
    "fruits = pd.read_table('../input/fruit-data/fruit_data_with_colors.txt') #load data\n",
    "fruits.head()\n",
    "\n",
    "fruits.drop('fruit_label',axis=1).plot(kind='box', subplots=True, layout=(2,2), sharex=False, sharey=False, figsize=(6,6), title='Box Plot for  each input variable')\n",
    "plt.savefig('fruits_box')\n",
    "plt.show()"
   ]
  },
  {
   "cell_type": "markdown",
   "id": "9f140863",
   "metadata": {
    "papermill": {
     "duration": 0.034673,
     "end_time": "2022-02-16T13:08:48.886772",
     "exception": false,
     "start_time": "2022-02-16T13:08:48.852099",
     "status": "completed"
    },
    "tags": []
   },
   "source": [
    "Histogram is used to summarize discrete or continuous data that are measured on an interval scale."
   ]
  },
  {
   "cell_type": "code",
   "execution_count": 9,
   "id": "f36bac34",
   "metadata": {
    "execution": {
     "iopub.execute_input": "2022-02-16T13:08:48.961015Z",
     "iopub.status.busy": "2022-02-16T13:08:48.959985Z",
     "iopub.status.idle": "2022-02-16T13:08:50.035452Z",
     "shell.execute_reply": "2022-02-16T13:08:50.034786Z",
     "shell.execute_reply.started": "2022-02-16T13:00:25.807868Z"
    },
    "papermill": {
     "duration": 1.113812,
     "end_time": "2022-02-16T13:08:50.035630",
     "exception": false,
     "start_time": "2022-02-16T13:08:48.921818",
     "status": "completed"
    },
    "tags": []
   },
   "outputs": [
    {
     "data": {
      "image/png": "[encoded data removed]",
      "text/plain": [
       "<Figure size 648x648 with 4 Axes>"
      ]
     },
     "metadata": {
      "needs_background": "light"
     },
     "output_type": "display_data"
    }
   ],
   "source": [
    "# histogram plot\n",
    "import pylab as pl\n",
    "\n",
    "fruits = pd.read_table('../input/fruit-data/fruit_data_with_colors.txt') #load data\n",
    "fruits.head\n",
    "\n",
    "fruits.drop('fruit_label', axis=1).hist(bins=30, figsize=(9,9))\n",
    "pl.suptitle(\"Histogram for each numeric input variable\")\n",
    "plt.savefig('fruits_hist')\n",
    "plt.show()"
   ]
  },
  {
   "cell_type": "markdown",
   "id": "a42728c7",
   "metadata": {
    "papermill": {
     "duration": 0.03632,
     "end_time": "2022-02-16T13:08:50.108559",
     "exception": false,
     "start_time": "2022-02-16T13:08:50.072239",
     "status": "completed"
    },
    "tags": []
   },
   "source": [
    "Scatter plots are used to plot data points on a horizontal and a vertical axis in the attempt to show how much one variable is affected by another."
   ]
  },
  {
   "cell_type": "code",
   "execution_count": 10,
   "id": "7faca15c",
   "metadata": {
    "execution": {
     "iopub.execute_input": "2022-02-16T13:08:50.193490Z",
     "iopub.status.busy": "2022-02-16T13:08:50.192443Z",
     "iopub.status.idle": "2022-02-16T13:08:50.522616Z",
     "shell.execute_reply": "2022-02-16T13:08:50.521997Z",
     "shell.execute_reply.started": "2022-02-16T13:00:26.872778Z"
    },
    "papermill": {
     "duration": 0.377255,
     "end_time": "2022-02-16T13:08:50.522758",
     "exception": false,
     "start_time": "2022-02-16T13:08:50.145503",
     "status": "completed"
    },
    "tags": []
   },
   "outputs": [
    {
     "data": {
      "text/plain": [
       "<AxesSubplot:>"
      ]
     },
     "execution_count": 10,
     "metadata": {},
     "output_type": "execute_result"
    },
    {
     "data": {
      "image/png": "[encoded data removed]",
      "text/plain": [
       "<Figure size 432x288 with 1 Axes>"
      ]
     },
     "metadata": {
      "needs_background": "light"
     },
     "output_type": "display_data"
    }
   ],
   "source": [
    "#scaterplot\n",
    "sns.scatterplot(data=fruits)"
   ]
  },
  {
   "cell_type": "markdown",
   "id": "1c392901",
   "metadata": {
    "papermill": {
     "duration": 0.038057,
     "end_time": "2022-02-16T13:08:50.599038",
     "exception": false,
     "start_time": "2022-02-16T13:08:50.560981",
     "status": "completed"
    },
    "tags": []
   },
   "source": [
    "The describe() method computes and displays summary statistics for a Python dataframe"
   ]
  },
  {
   "cell_type": "code",
   "execution_count": 11,
   "id": "3d6d0807",
   "metadata": {
    "execution": {
     "iopub.execute_input": "2022-02-16T13:08:50.683935Z",
     "iopub.status.busy": "2022-02-16T13:08:50.682832Z",
     "iopub.status.idle": "2022-02-16T13:08:50.704155Z",
     "shell.execute_reply": "2022-02-16T13:08:50.704760Z",
     "shell.execute_reply.started": "2022-02-16T13:00:27.218537Z"
    },
    "papermill": {
     "duration": 0.067719,
     "end_time": "2022-02-16T13:08:50.704937",
     "exception": false,
     "start_time": "2022-02-16T13:08:50.637218",
     "status": "completed"
    },
    "tags": []
   },
   "outputs": [
    {
     "data": {
      "text/html": [
       "<div>\n",
       "<style scoped>\n",
       "    .dataframe tbody tr th:only-of-type {\n",
       "        vertical-align: middle;\n",
       "    }\n",
       "\n",
       "    .dataframe tbody tr th {\n",
       "        vertical-align: top;\n",
       "    }\n",
       "\n",
       "    .dataframe thead th {\n",
       "        text-align: right;\n",
       "    }\n",
       "</style>\n",
       "<table border=\"1\" class=\"dataframe\">\n",
       "  <thead>\n",
       "    <tr style=\"text-align: right;\">\n",
       "      <th></th>\n",
       "      <th>fruit_label</th>\n",
       "      <th>mass</th>\n",
       "      <th>width</th>\n",
       "      <th>height</th>\n",
       "      <th>color_score</th>\n",
       "    </tr>\n",
       "  </thead>\n",
       "  <tbody>\n",
       "    <tr>\n",
       "      <th>count</th>\n",
       "      <td>59.000000</td>\n",
       "      <td>59.000000</td>\n",
       "      <td>59.000000</td>\n",
       "      <td>59.000000</td>\n",
       "      <td>59.000000</td>\n",
       "    </tr>\n",
       "    <tr>\n",
       "      <th>mean</th>\n",
       "      <td>2.542373</td>\n",
       "      <td>163.118644</td>\n",
       "      <td>7.105085</td>\n",
       "      <td>7.693220</td>\n",
       "      <td>0.762881</td>\n",
       "    </tr>\n",
       "    <tr>\n",
       "      <th>std</th>\n",
       "      <td>1.208048</td>\n",
       "      <td>55.018832</td>\n",
       "      <td>0.816938</td>\n",
       "      <td>1.361017</td>\n",
       "      <td>0.076857</td>\n",
       "    </tr>\n",
       "    <tr>\n",
       "      <th>min</th>\n",
       "      <td>1.000000</td>\n",
       "      <td>76.000000</td>\n",
       "      <td>5.800000</td>\n",
       "      <td>4.000000</td>\n",
       "      <td>0.550000</td>\n",
       "    </tr>\n",
       "    <tr>\n",
       "      <th>25%</th>\n",
       "      <td>1.000000</td>\n",
       "      <td>140.000000</td>\n",
       "      <td>6.600000</td>\n",
       "      <td>7.200000</td>\n",
       "      <td>0.720000</td>\n",
       "    </tr>\n",
       "    <tr>\n",
       "      <th>50%</th>\n",
       "      <td>3.000000</td>\n",
       "      <td>158.000000</td>\n",
       "      <td>7.200000</td>\n",
       "      <td>7.600000</td>\n",
       "      <td>0.750000</td>\n",
       "    </tr>\n",
       "    <tr>\n",
       "      <th>75%</th>\n",
       "      <td>4.000000</td>\n",
       "      <td>177.000000</td>\n",
       "      <td>7.500000</td>\n",
       "      <td>8.200000</td>\n",
       "      <td>0.810000</td>\n",
       "    </tr>\n",
       "    <tr>\n",
       "      <th>max</th>\n",
       "      <td>4.000000</td>\n",
       "      <td>362.000000</td>\n",
       "      <td>9.600000</td>\n",
       "      <td>10.500000</td>\n",
       "      <td>0.930000</td>\n",
       "    </tr>\n",
       "  </tbody>\n",
       "</table>\n",
       "</div>"
      ],
      "text/plain": [
       "       fruit_label        mass      width     height  color_score\n",
       "count    59.000000   59.000000  59.000000  59.000000    59.000000\n",
       "mean      2.542373  163.118644   7.105085   7.693220     0.762881\n",
       "std       1.208048   55.018832   0.816938   1.361017     0.076857\n",
       "min       1.000000   76.000000   5.800000   4.000000     0.550000\n",
       "25%       1.000000  140.000000   6.600000   7.200000     0.720000\n",
       "50%       3.000000  158.000000   7.200000   7.600000     0.750000\n",
       "75%       4.000000  177.000000   7.500000   8.200000     0.810000\n",
       "max       4.000000  362.000000   9.600000  10.500000     0.930000"
      ]
     },
     "execution_count": 11,
     "metadata": {},
     "output_type": "execute_result"
    }
   ],
   "source": [
    "fruits.describe()"
   ]
  },
  {
   "cell_type": "markdown",
   "id": "1c2f479d",
   "metadata": {
    "papermill": {
     "duration": 0.038665,
     "end_time": "2022-02-16T13:08:50.782371",
     "exception": false,
     "start_time": "2022-02-16T13:08:50.743706",
     "status": "completed"
    },
    "tags": []
   },
   "source": [
    "Data Preparation and scaling"
   ]
  },
  {
   "cell_type": "code",
   "execution_count": 12,
   "id": "a04eb355",
   "metadata": {
    "execution": {
     "iopub.execute_input": "2022-02-16T13:08:50.871040Z",
     "iopub.status.busy": "2022-02-16T13:08:50.865360Z",
     "iopub.status.idle": "2022-02-16T13:08:50.887770Z",
     "shell.execute_reply": "2022-02-16T13:08:50.888271Z",
     "shell.execute_reply.started": "2022-02-16T13:00:27.247943Z"
    },
    "papermill": {
     "duration": 0.066499,
     "end_time": "2022-02-16T13:08:50.888447",
     "exception": false,
     "start_time": "2022-02-16T13:08:50.821948",
     "status": "completed"
    },
    "tags": []
   },
   "outputs": [
    {
     "name": "stdout",
     "output_type": "stream",
     "text": [
      "    mass  width  height  color_score\n",
      "42   154    7.2     7.2         0.82\n",
      "48   174    7.3    10.1         0.72\n",
      "7     76    5.8     4.0         0.81\n",
      "\n",
      "After scaling\n",
      "\n",
      "[[0.27857143 0.41176471 0.49230769 0.72972973]\n",
      " [0.35       0.44117647 0.93846154 0.45945946]\n",
      " [0.         0.         0.         0.7027027 ]]\n"
     ]
    }
   ],
   "source": [
    "#preparing data with scaling\n",
    "import pandas as pd\n",
    "from sklearn.model_selection import train_test_split\n",
    "from sklearn.preprocessing import MinMaxScaler\n",
    "\n",
    "\n",
    "fruits = pd.read_table('../input/fruit-data/fruit_data_with_colors.txt') #load data\n",
    " \n",
    "feature_names = ['mass', 'width', 'height', 'color_score']\n",
    "x=fruits[feature_names]\n",
    "y=fruits['fruit_label']\n",
    "\n",
    "x_train, x_test, y_train, y_test = train_test_split(x,y, random_state=0)\n",
    "\n",
    "print(x_train[:3]) # to check output\n",
    "\n",
    "scaler = MinMaxScaler()\n",
    "x_train=scaler.fit_transform(x_train)\n",
    "x_test= scaler.transform(x_test)\n",
    "\n",
    "print(\"\\nAfter scaling\\n\")\n",
    "print(x_train[:3]) # to check output\n"
   ]
  },
  {
   "cell_type": "markdown",
   "id": "02b4193c",
   "metadata": {
    "papermill": {
     "duration": 0.038999,
     "end_time": "2022-02-16T13:08:50.966748",
     "exception": false,
     "start_time": "2022-02-16T13:08:50.927749",
     "status": "completed"
    },
    "tags": []
   },
   "source": [
    "# 1. Logistic Regresion"
   ]
  },
  {
   "cell_type": "markdown",
   "id": "59deea32",
   "metadata": {
    "papermill": {
     "duration": 0.039885,
     "end_time": "2022-02-16T13:08:51.045609",
     "exception": false,
     "start_time": "2022-02-16T13:08:51.005724",
     "status": "completed"
    },
    "tags": []
   },
   "source": [
    "Logistic regression is a fundamental classification technique. It belongs to the group of linear classifiers and is somewhat similar to polynomial and linear regression. Logistic regression is fast and relatively uncomplicated, and it’s convenient for you to interpret the results."
   ]
  },
  {
   "cell_type": "code",
   "execution_count": 13,
   "id": "d74b5eb9",
   "metadata": {
    "execution": {
     "iopub.execute_input": "2022-02-16T13:08:51.127536Z",
     "iopub.status.busy": "2022-02-16T13:08:51.126531Z",
     "iopub.status.idle": "2022-02-16T13:08:51.158385Z",
     "shell.execute_reply": "2022-02-16T13:08:51.157838Z",
     "shell.execute_reply.started": "2022-02-16T13:00:27.273062Z"
    },
    "papermill": {
     "duration": 0.073697,
     "end_time": "2022-02-16T13:08:51.158538",
     "exception": false,
     "start_time": "2022-02-16T13:08:51.084841",
     "status": "completed"
    },
    "tags": []
   },
   "outputs": [
    {
     "name": "stdout",
     "output_type": "stream",
     "text": [
      "Accuracy of Logistic regression classifier on training set:0.75\n",
      "Accuracy of Logistic regression classifier on test set:0.47\n"
     ]
    }
   ],
   "source": [
    "from sklearn.linear_model import LogisticRegression   # machine learning lib/model\n",
    "\n",
    "\n",
    "fruits = pd.read_table('../input/fruit-data/fruit_data_with_colors.txt') #load data\n",
    " \n",
    "feature_names = ['mass', 'width', 'height', 'color_score']\n",
    "x=fruits[feature_names]\n",
    "y=fruits['fruit_label']\n",
    "\n",
    "x_train, x_test, y_train, y_test = train_test_split(x,y, random_state=0)\n",
    "\n",
    "scaler = MinMaxScaler()\n",
    "x_train=scaler.fit_transform(x_train)\n",
    "x_test= scaler.transform(x_test)\n",
    "\n",
    "#logistic regression\n",
    "logreg = LogisticRegression()  # machine learning algorithm\n",
    "logreg.fit(x_train, y_train)\n",
    "\n",
    "#print score of train data\n",
    "print('Accuracy of Logistic regression classifier on training set:{:.2f}'\n",
    "     .format(logreg.score(x_train, y_train)))\n",
    "\n",
    "#print score of test data\n",
    "print('Accuracy of Logistic regression classifier on test set:{:.2f}'\n",
    "     .format(logreg.score(x_test, y_test)))"
   ]
  },
  {
   "cell_type": "markdown",
   "id": "2fd53373",
   "metadata": {
    "papermill": {
     "duration": 0.040529,
     "end_time": "2022-02-16T13:08:51.239465",
     "exception": false,
     "start_time": "2022-02-16T13:08:51.198936",
     "status": "completed"
    },
    "tags": []
   },
   "source": [
    "# 2. Decission Tree"
   ]
  },
  {
   "cell_type": "markdown",
   "id": "fd93f64a",
   "metadata": {
    "papermill": {
     "duration": 0.039121,
     "end_time": "2022-02-16T13:08:51.318161",
     "exception": false,
     "start_time": "2022-02-16T13:08:51.279040",
     "status": "completed"
    },
    "tags": []
   },
   "source": [
    "A decision tree is a flowchart-like tree structure where an internal node represents feature(or attribute), the branch represents a decision rule, and each leaf node represents the outcome. The topmost node in a decision tree is known as the root node. It learns to partition on the basis of the attribute value."
   ]
  },
  {
   "cell_type": "code",
   "execution_count": 14,
   "id": "63d40bcf",
   "metadata": {
    "execution": {
     "iopub.execute_input": "2022-02-16T13:08:51.405850Z",
     "iopub.status.busy": "2022-02-16T13:08:51.405024Z",
     "iopub.status.idle": "2022-02-16T13:08:51.422395Z",
     "shell.execute_reply": "2022-02-16T13:08:51.421391Z",
     "shell.execute_reply.started": "2022-02-16T13:00:27.303948Z"
    },
    "papermill": {
     "duration": 0.065146,
     "end_time": "2022-02-16T13:08:51.422619",
     "exception": false,
     "start_time": "2022-02-16T13:08:51.357473",
     "status": "completed"
    },
    "tags": []
   },
   "outputs": [
    {
     "name": "stdout",
     "output_type": "stream",
     "text": [
      "Accuracy of Decision Tree classifier on training set:1.00\n",
      "Accuracy of Decision Tree Classifier on test set:0.73\n"
     ]
    }
   ],
   "source": [
    "from sklearn.tree import DecisionTreeClassifier\n",
    "from sklearn.model_selection import train_test_split\n",
    "from sklearn.preprocessing import MinMaxScaler\n",
    "\n",
    "fruits = pd.read_table('../input/fruit-data/fruit_data_with_colors.txt') #load data\n",
    "\n",
    "\n",
    "feature_names = ['mass', 'width', 'height', 'color_score']\n",
    "x=fruits[feature_names]\n",
    "y=fruits['fruit_label']\n",
    "\n",
    "x_train, x_test, y_train, y_test = train_test_split(x,y, random_state=0)\n",
    "\n",
    "scaler = MinMaxScaler()\n",
    "x_train=scaler.fit_transform(x_train)\n",
    "x_test= scaler.transform(x_test)\n",
    "\n",
    "# decission tree\n",
    "clf = DecisionTreeClassifier().fit(x_train, y_train)\n",
    "\n",
    "#print score of train data\n",
    "print('Accuracy of Decision Tree classifier on training set:{:.2f}'\n",
    "     .format(clf.score(x_train, y_train)))\n",
    "\n",
    "#print score of test data\n",
    "print('Accuracy of Decision Tree Classifier on test set:{:.2f}'\n",
    "     .format(clf.score(x_test, y_test)))"
   ]
  },
  {
   "cell_type": "markdown",
   "id": "1de1cd5c",
   "metadata": {
    "papermill": {
     "duration": 0.039627,
     "end_time": "2022-02-16T13:08:51.503064",
     "exception": false,
     "start_time": "2022-02-16T13:08:51.463437",
     "status": "completed"
    },
    "tags": []
   },
   "source": [
    "# 3. KNN ( K- Nearest Neighbors)"
   ]
  },
  {
   "cell_type": "markdown",
   "id": "5a00d51f",
   "metadata": {
    "papermill": {
     "duration": 0.039417,
     "end_time": "2022-02-16T13:08:51.582151",
     "exception": false,
     "start_time": "2022-02-16T13:08:51.542734",
     "status": "completed"
    },
    "tags": []
   },
   "source": [
    "KNN works by finding the distances between a query and all the examples in the data, selecting the specified number examples (K) closest to the query, then votes for the most frequent label (in the case of classification) or averages the labels (in the case of regression)."
   ]
  },
  {
   "cell_type": "code",
   "execution_count": 15,
   "id": "588f02d4",
   "metadata": {
    "execution": {
     "iopub.execute_input": "2022-02-16T13:08:51.664702Z",
     "iopub.status.busy": "2022-02-16T13:08:51.663960Z",
     "iopub.status.idle": "2022-02-16T13:08:51.677395Z",
     "shell.execute_reply": "2022-02-16T13:08:51.677920Z",
     "shell.execute_reply.started": "2022-02-16T13:00:27.325940Z"
    },
    "papermill": {
     "duration": 0.056217,
     "end_time": "2022-02-16T13:08:51.678096",
     "exception": false,
     "start_time": "2022-02-16T13:08:51.621879",
     "status": "completed"
    },
    "tags": []
   },
   "outputs": [
    {
     "name": "stdout",
     "output_type": "stream",
     "text": [
      "Accuracy of KNN classifier on training set:0.95\n",
      "Accuracy of KNN Classifier on test set:1.00\n"
     ]
    }
   ],
   "source": [
    "from sklearn.neighbors import KNeighborsClassifier\n",
    "\n",
    "# KNN method\n",
    "knn = KNeighborsClassifier()\n",
    "knn.fit(x_train, y_train)\n",
    "\n",
    "#print score of train data\n",
    "print('Accuracy of KNN classifier on training set:{:.2f}'\n",
    "     .format(knn.score(x_train, y_train)))\n",
    "\n",
    "#print score of test data\n",
    "print('Accuracy of KNN Classifier on test set:{:.2f}'\n",
    "     .format(knn.score(x_test, y_test)))"
   ]
  },
  {
   "cell_type": "markdown",
   "id": "f1922d7c",
   "metadata": {
    "papermill": {
     "duration": 0.040311,
     "end_time": "2022-02-16T13:08:51.758734",
     "exception": false,
     "start_time": "2022-02-16T13:08:51.718423",
     "status": "completed"
    },
    "tags": []
   },
   "source": [
    "# 4. Gaussian Naive Bayes Classifiers"
   ]
  },
  {
   "cell_type": "markdown",
   "id": "7209eb34",
   "metadata": {
    "papermill": {
     "duration": 0.040288,
     "end_time": "2022-02-16T13:08:51.840217",
     "exception": false,
     "start_time": "2022-02-16T13:08:51.799929",
     "status": "completed"
    },
    "tags": []
   },
   "source": [
    "Gaussian Naive Bayes is a variant of Naive Bayes that follows Gaussian normal distribution and supports continuous data. Naive Bayes are a group of supervised machine learning classification algorithms based on the Bayes theorem. It is a simple classification technique, but has high functionality."
   ]
  },
  {
   "cell_type": "code",
   "execution_count": 16,
   "id": "0459c2d4",
   "metadata": {
    "execution": {
     "iopub.execute_input": "2022-02-16T13:08:51.932850Z",
     "iopub.status.busy": "2022-02-16T13:08:51.926018Z",
     "iopub.status.idle": "2022-02-16T13:08:51.935541Z",
     "shell.execute_reply": "2022-02-16T13:08:51.936258Z",
     "shell.execute_reply.started": "2022-02-16T13:00:27.343670Z"
    },
    "papermill": {
     "duration": 0.055114,
     "end_time": "2022-02-16T13:08:51.936484",
     "exception": false,
     "start_time": "2022-02-16T13:08:51.881370",
     "status": "completed"
    },
    "tags": []
   },
   "outputs": [
    {
     "name": "stdout",
     "output_type": "stream",
     "text": [
      "Accuracy of GNB classifier on training set:0.86\n",
      "Accuracy of GNB Classifier on test set:0.67\n"
     ]
    }
   ],
   "source": [
    "from sklearn.naive_bayes import GaussianNB\n",
    "\n",
    "# Gaussian Naive bayes \n",
    "gnb = GaussianNB()\n",
    "gnb.fit(x_train, y_train)\n",
    "\n",
    "#print score of train data\n",
    "print('Accuracy of GNB classifier on training set:{:.2f}'\n",
    "     .format(gnb.score(x_train, y_train)))\n",
    "\n",
    "#print score of test data\n",
    "print('Accuracy of GNB Classifier on test set:{:.2f}'\n",
    "     .format(gnb.score(x_test, y_test)))"
   ]
  },
  {
   "cell_type": "markdown",
   "id": "d76441b1",
   "metadata": {
    "papermill": {
     "duration": 0.040537,
     "end_time": "2022-02-16T13:08:52.019468",
     "exception": false,
     "start_time": "2022-02-16T13:08:51.978931",
     "status": "completed"
    },
    "tags": []
   },
   "source": [
    "# 5. Support Vector Machine  (SVM) Classifier"
   ]
  },
  {
   "cell_type": "markdown",
   "id": "a1a7c663",
   "metadata": {
    "papermill": {
     "duration": 0.042114,
     "end_time": "2022-02-16T13:08:52.103326",
     "exception": false,
     "start_time": "2022-02-16T13:08:52.061212",
     "status": "completed"
    },
    "tags": []
   },
   "source": [
    "Support vector machines (SVMs) are a set of supervised learning methods used for classification, regression and outliers detection. ... Uses a subset of training points in the decision function (called support vectors), so it is also memory efficient."
   ]
  },
  {
   "cell_type": "code",
   "execution_count": 17,
   "id": "1dc597fb",
   "metadata": {
    "execution": {
     "iopub.execute_input": "2022-02-16T13:08:52.191977Z",
     "iopub.status.busy": "2022-02-16T13:08:52.188467Z",
     "iopub.status.idle": "2022-02-16T13:08:52.199292Z",
     "shell.execute_reply": "2022-02-16T13:08:52.200056Z",
     "shell.execute_reply.started": "2022-02-16T13:00:27.356399Z"
    },
    "papermill": {
     "duration": 0.055564,
     "end_time": "2022-02-16T13:08:52.200290",
     "exception": false,
     "start_time": "2022-02-16T13:08:52.144726",
     "status": "completed"
    },
    "tags": []
   },
   "outputs": [
    {
     "name": "stdout",
     "output_type": "stream",
     "text": [
      "Accuracy of SVM classifier on training set:0.91\n",
      "Accuracy of SVM Classifier on test set:0.80\n"
     ]
    }
   ],
   "source": [
    "from sklearn.svm import SVC\n",
    "\n",
    "# SVM classifier\n",
    "svm = SVC()\n",
    "svm.fit(x_train, y_train)\n",
    "\n",
    "#print score of train data\n",
    "print('Accuracy of SVM classifier on training set:{:.2f}'\n",
    "     .format(svm.score(x_train, y_train)))\n",
    "\n",
    "#print score of test data\n",
    "print('Accuracy of SVM Classifier on test set:{:.2f}'\n",
    "     .format(svm.score(x_test, y_test)))"
   ]
  },
  {
   "cell_type": "markdown",
   "id": "5941237f",
   "metadata": {
    "papermill": {
     "duration": 0.040975,
     "end_time": "2022-02-16T13:08:52.285159",
     "exception": false,
     "start_time": "2022-02-16T13:08:52.244184",
     "status": "completed"
    },
    "tags": []
   },
   "source": [
    "# Accuracy of all Classifiers\n",
    "\n",
    "1. Logistic Regression\n",
    "Accuracy of Logistic regression classifier on training set:0.75, \n",
    "Accuracy of Logistic regression classifier on test set:0.47\n",
    "\n",
    "2. Decission Tree CLassifier\n",
    "Accuracy of Decision Tree classifier on training set:1.00, \n",
    "Accuracy of Decision Tree Classifier on test set:0.73\n",
    "\n",
    "3. K-Nearest Neighbors (KNN) Classifier\n",
    "Accuracy of KNN classifier on training set:0.95, \n",
    "Accuracy of KNN Classifier on test set:1.00\n",
    "\n",
    "4. GAussian Naive Bayes (GNB) Classifier\n",
    "Accuracy of GNB classifier on training set:0.86, \n",
    "Accuracy of GNB Classifier on test set:0.67\n",
    "\n",
    "5. Support Vector Machine (SVM) Classifier \n",
    "Accuracy of SVM classifier on training set:0.91, \n",
    "Accuracy of SVM Classifier on test set:0.80"
   ]
  },
  {
   "cell_type": "code",
   "execution_count": null,
   "id": "a7ba9d51",
   "metadata": {
    "papermill": {
     "duration": 0.040597,
     "end_time": "2022-02-16T13:08:52.367183",
     "exception": false,
     "start_time": "2022-02-16T13:08:52.326586",
     "status": "completed"
    },
    "tags": []
   },
   "outputs": [],
   "source": []
  }
 ],
 "metadata": {
  "kernelspec": {
   "display_name": "Python 3",
   "language": "python",
   "name": "python3"
  },
  "language_info": {
   "codemirror_mode": {
    "name": "ipython",
    "version": 3
   },
   "file_extension": ".py",
   "mimetype": "text/x-python",
   "name": "python",
   "nbconvert_exporter": "python",
   "pygments_lexer": "ipython3",
   "version": "3.7.12"
  },
  "papermill": {
   "default_parameters": {},
   "duration": 17.577101,
   "end_time": "2022-02-16T13:08:53.119468",
   "environment_variables": {},
   "exception": null,
   "input_path": "__notebook__.ipynb",
   "output_path": "__notebook__.ipynb",
   "parameters": {},
   "start_time": "2022-02-16T13:08:35.542367",
   "version": "2.3.3"
  }
 },
 "nbformat": 4,
 "nbformat_minor": 5
}
