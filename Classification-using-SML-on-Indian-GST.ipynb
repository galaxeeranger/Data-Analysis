{
 "cells": [
  {
   "cell_type": "markdown",
   "id": "df40bed8",
   "metadata": {
    "papermill": {
     "duration": 0.034238,
     "end_time": "2022-02-23T14:18:41.015962",
     "exception": false,
     "start_time": "2022-02-23T14:18:40.981724",
     "status": "completed"
    },
    "tags": []
   },
   "source": [
    "### PROBLEM DESCRIPTION\n",
    "\n",
    "This notebook demostrates a sequence classification of Fruit Lover Collection dataset by doing comparative Supervised Machine Learning Algorithms based classifier.\n",
    "\n",
    "This dataset contains 2046 rows and 4 columns, Column names are Year, Months, States and GST,\n",
    "in each column there are values as follows:\n",
    "Years: July-2017 to Nov-2021  # 5 years data\n",
    "\n",
    "Months: January to December # 12 months\n",
    "\n",
    "States: 'Jammu and Kashmir', 'Himachal Pradesh', 'Punjab', 'Chandigarh',\n",
    "       'Uttarakhand', 'Haryana', 'Delhi', 'Rajasthan', 'Uttar Pradesh',\n",
    "       'Bihar', 'Sikkim', 'Arunachal Pradesh', 'Nagaland', 'Manipur',\n",
    "       'Mizoram', 'Tripura', 'Meghalaya', 'Assam', 'West Bengal',\n",
    "       'Jharkhand', 'Odisha', 'Chattisgarh', 'Madhya Pradesh', 'Gujrat',\n",
    "       'Daman and Diu', 'Dadra and Nagar Haveli', 'Maharastra',\n",
    "       'Karnataka', 'Goa', 'Lakshadweep', 'Kerala', 'Tamil Nadu',\n",
    "       'Puducherry', 'Andaman and Nicobar Island', 'Telangana',\n",
    "       'Andhra Pradesh', 'Other Territory', 'CBIC', 'Ladakh'                # 39 states\n",
    "       \n",
    "GST : GST of State per Month\n",
    "\n",
    "The problem is deciding whether a given GST Dataset of India. The data were collected by my self and that used 70-30 data for training and testing and get the accuracy.\n",
    "\n",
    "Reff : https://pib.gov.in/indexd.aspx\n",
    "\n",
    "Reff : https://www.gst.gov.in/download/gststatistics\n",
    "____________________________________________________________________________________________________________________"
   ]
  },
  {
   "cell_type": "markdown",
   "id": "feec4178",
   "metadata": {
    "papermill": {
     "duration": 0.032526,
     "end_time": "2022-02-23T14:18:41.082945",
     "exception": false,
     "start_time": "2022-02-23T14:18:41.050419",
     "status": "completed"
    },
    "tags": []
   },
   "source": [
    "##### Import modules\n",
    "\n",
    "#### Let's start off with the basic step of importing all the relevant modules and functions required for this particular classifier."
   ]
  },
  {
   "cell_type": "code",
   "execution_count": 1,
   "id": "3f1d9775",
   "metadata": {
    "execution": {
     "iopub.execute_input": "2022-02-23T14:18:41.155204Z",
     "iopub.status.busy": "2022-02-23T14:18:41.153890Z",
     "iopub.status.idle": "2022-02-23T14:18:53.893020Z",
     "shell.execute_reply": "2022-02-23T14:18:53.892314Z",
     "shell.execute_reply.started": "2022-02-23T14:17:54.242111Z"
    },
    "papermill": {
     "duration": 12.777809,
     "end_time": "2022-02-23T14:18:53.893178",
     "exception": false,
     "start_time": "2022-02-23T14:18:41.115369",
     "status": "completed"
    },
    "tags": []
   },
   "outputs": [
    {
     "name": "stdout",
     "output_type": "stream",
     "text": [
      "Collecting openpyxl\r\n",
      "  Downloading openpyxl-3.0.9-py2.py3-none-any.whl (242 kB)\r\n",
      "     |████████████████████████████████| 242 kB 291 kB/s            \r\n",
      "\u001b[?25hCollecting et-xmlfile\r\n",
      "  Downloading et_xmlfile-1.1.0-py3-none-any.whl (4.7 kB)\r\n",
      "Installing collected packages: et-xmlfile, openpyxl\r\n",
      "Successfully installed et-xmlfile-1.1.0 openpyxl-3.0.9\r\n",
      "\u001b[33mWARNING: Running pip as the 'root' user can result in broken permissions and conflicting behaviour with the system package manager. It is recommended to use a virtual environment instead: https://pip.pypa.io/warnings/venv\u001b[0m\r\n"
     ]
    }
   ],
   "source": [
    "!pip install openpyxl"
   ]
  },
  {
   "cell_type": "code",
   "execution_count": 2,
   "id": "8218524c",
   "metadata": {
    "execution": {
     "iopub.execute_input": "2022-02-23T14:18:53.976412Z",
     "iopub.status.busy": "2022-02-23T14:18:53.975416Z",
     "iopub.status.idle": "2022-02-23T14:18:55.226772Z",
     "shell.execute_reply": "2022-02-23T14:18:55.226200Z",
     "shell.execute_reply.started": "2022-02-23T14:12:50.856682Z"
    },
    "papermill": {
     "duration": 1.295154,
     "end_time": "2022-02-23T14:18:55.226955",
     "exception": false,
     "start_time": "2022-02-23T14:18:53.931801",
     "status": "completed"
    },
    "tags": []
   },
   "outputs": [],
   "source": [
    "import pandas as pd # load dataframe\n",
    "from pandas import set_option # to precise decimal value\n",
    "import numpy as np # for mumeric operations\n",
    "import matplotlib.pyplot as plt # for graphs\n",
    "import seaborn as sns  # for correlation plots\n",
    "import warnings # to ignore warnings\n",
    "warnings.filterwarnings('ignore')\n",
    "import openpyxl"
   ]
  },
  {
   "cell_type": "markdown",
   "id": "9d544c41",
   "metadata": {
    "papermill": {
     "duration": 0.038349,
     "end_time": "2022-02-23T14:18:55.303090",
     "exception": false,
     "start_time": "2022-02-23T14:18:55.264741",
     "status": "completed"
    },
    "tags": []
   },
   "source": [
    "#### Firstly, let's learn about our dataset. For this we need to import the data and convert it into a Pandas' dataframe."
   ]
  },
  {
   "cell_type": "code",
   "execution_count": 3,
   "id": "c86ac864",
   "metadata": {
    "execution": {
     "iopub.execute_input": "2022-02-23T14:18:55.386403Z",
     "iopub.status.busy": "2022-02-23T14:18:55.385698Z",
     "iopub.status.idle": "2022-02-23T14:18:55.628380Z",
     "shell.execute_reply": "2022-02-23T14:18:55.628930Z",
     "shell.execute_reply.started": "2022-02-23T14:12:55.481413Z"
    },
    "papermill": {
     "duration": 0.286154,
     "end_time": "2022-02-23T14:18:55.629122",
     "exception": false,
     "start_time": "2022-02-23T14:18:55.342968",
     "status": "completed"
    },
    "tags": []
   },
   "outputs": [
    {
     "data": {
      "text/html": [
       "<div>\n",
       "<style scoped>\n",
       "    .dataframe tbody tr th:only-of-type {\n",
       "        vertical-align: middle;\n",
       "    }\n",
       "\n",
       "    .dataframe tbody tr th {\n",
       "        vertical-align: top;\n",
       "    }\n",
       "\n",
       "    .dataframe thead th {\n",
       "        text-align: right;\n",
       "    }\n",
       "</style>\n",
       "<table border=\"1\" class=\"dataframe\">\n",
       "  <thead>\n",
       "    <tr style=\"text-align: right;\">\n",
       "      <th></th>\n",
       "      <th>Years</th>\n",
       "      <th>Months</th>\n",
       "      <th>States</th>\n",
       "      <th>GST</th>\n",
       "    </tr>\n",
       "  </thead>\n",
       "  <tbody>\n",
       "    <tr>\n",
       "      <th>0</th>\n",
       "      <td>2017</td>\n",
       "      <td>July</td>\n",
       "      <td>Jammu and Kashmir</td>\n",
       "      <td>0.000126</td>\n",
       "    </tr>\n",
       "    <tr>\n",
       "      <th>1</th>\n",
       "      <td>2017</td>\n",
       "      <td>July</td>\n",
       "      <td>Himachal Pradesh</td>\n",
       "      <td>0.174947</td>\n",
       "    </tr>\n",
       "    <tr>\n",
       "      <th>2</th>\n",
       "      <td>2017</td>\n",
       "      <td>July</td>\n",
       "      <td>Punjab</td>\n",
       "      <td>2.723252</td>\n",
       "    </tr>\n",
       "    <tr>\n",
       "      <th>3</th>\n",
       "      <td>2017</td>\n",
       "      <td>July</td>\n",
       "      <td>Chandigarh</td>\n",
       "      <td>0.374057</td>\n",
       "    </tr>\n",
       "    <tr>\n",
       "      <th>4</th>\n",
       "      <td>2017</td>\n",
       "      <td>July</td>\n",
       "      <td>Uttarakhand</td>\n",
       "      <td>0.185385</td>\n",
       "    </tr>\n",
       "  </tbody>\n",
       "</table>\n",
       "</div>"
      ],
      "text/plain": [
       "   Years Months             States       GST\n",
       "0   2017   July  Jammu and Kashmir  0.000126\n",
       "1   2017   July   Himachal Pradesh  0.174947\n",
       "2   2017   July             Punjab  2.723252\n",
       "3   2017   July         Chandigarh  0.374057\n",
       "4   2017   July        Uttarakhand  0.185385"
      ]
     },
     "execution_count": 3,
     "metadata": {},
     "output_type": "execute_result"
    }
   ],
   "source": [
    "df = pd.read_excel(\"../input/indian-gst-dataset-jul2017-nov2021/Indian_GST_Dataset_with_months_and_state_2017-2021_Nov.xlsx\") # load excel dataset\n",
    "df.head() # top 5 rows"
   ]
  },
  {
   "cell_type": "code",
   "execution_count": 4,
   "id": "f7b8e68a",
   "metadata": {
    "execution": {
     "iopub.execute_input": "2022-02-23T14:18:55.712238Z",
     "iopub.status.busy": "2022-02-23T14:18:55.711371Z",
     "iopub.status.idle": "2022-02-23T14:18:55.715346Z",
     "shell.execute_reply": "2022-02-23T14:18:55.714682Z",
     "shell.execute_reply.started": "2022-02-23T14:12:59.746559Z"
    },
    "papermill": {
     "duration": 0.048105,
     "end_time": "2022-02-23T14:18:55.715487",
     "exception": false,
     "start_time": "2022-02-23T14:18:55.667382",
     "status": "completed"
    },
    "tags": []
   },
   "outputs": [
    {
     "data": {
      "text/plain": [
       "(2046, 4)"
      ]
     },
     "execution_count": 4,
     "metadata": {},
     "output_type": "execute_result"
    }
   ],
   "source": [
    "df.shape # count Rows and columns"
   ]
  },
  {
   "cell_type": "code",
   "execution_count": 5,
   "id": "f98b8fb3",
   "metadata": {
    "execution": {
     "iopub.execute_input": "2022-02-23T14:18:55.799048Z",
     "iopub.status.busy": "2022-02-23T14:18:55.798118Z",
     "iopub.status.idle": "2022-02-23T14:18:55.802586Z",
     "shell.execute_reply": "2022-02-23T14:18:55.802087Z",
     "shell.execute_reply.started": "2022-02-23T14:13:05.280993Z"
    },
    "papermill": {
     "duration": 0.048783,
     "end_time": "2022-02-23T14:18:55.802730",
     "exception": false,
     "start_time": "2022-02-23T14:18:55.753947",
     "status": "completed"
    },
    "tags": []
   },
   "outputs": [
    {
     "data": {
      "text/plain": [
       "Index(['Years', 'Months', 'States', 'GST'], dtype='object')"
      ]
     },
     "execution_count": 5,
     "metadata": {},
     "output_type": "execute_result"
    }
   ],
   "source": [
    "df.columns # column names"
   ]
  },
  {
   "cell_type": "code",
   "execution_count": 6,
   "id": "aa2d2aeb",
   "metadata": {
    "execution": {
     "iopub.execute_input": "2022-02-23T14:18:55.892193Z",
     "iopub.status.busy": "2022-02-23T14:18:55.891497Z",
     "iopub.status.idle": "2022-02-23T14:18:55.894800Z",
     "shell.execute_reply": "2022-02-23T14:18:55.895311Z",
     "shell.execute_reply.started": "2022-02-23T14:11:24.097684Z"
    },
    "papermill": {
     "duration": 0.053614,
     "end_time": "2022-02-23T14:18:55.895488",
     "exception": false,
     "start_time": "2022-02-23T14:18:55.841874",
     "status": "completed"
    },
    "tags": []
   },
   "outputs": [
    {
     "data": {
      "text/plain": [
       "array([2017, 2018, 2019, 2020, 2021])"
      ]
     },
     "execution_count": 6,
     "metadata": {},
     "output_type": "execute_result"
    }
   ],
   "source": [
    "df.Years.unique() # unique year name"
   ]
  },
  {
   "cell_type": "code",
   "execution_count": 7,
   "id": "3fe839b9",
   "metadata": {
    "execution": {
     "iopub.execute_input": "2022-02-23T14:18:55.983647Z",
     "iopub.status.busy": "2022-02-23T14:18:55.982715Z",
     "iopub.status.idle": "2022-02-23T14:18:55.986937Z",
     "shell.execute_reply": "2022-02-23T14:18:55.986388Z",
     "shell.execute_reply.started": "2022-02-23T14:11:24.109731Z"
    },
    "papermill": {
     "duration": 0.049638,
     "end_time": "2022-02-23T14:18:55.987096",
     "exception": false,
     "start_time": "2022-02-23T14:18:55.937458",
     "status": "completed"
    },
    "tags": []
   },
   "outputs": [
    {
     "data": {
      "text/plain": [
       "array(['July', 'August', 'September', 'October', 'November', 'December',\n",
       "       'January', 'February', 'March', 'April', 'May', 'June'],\n",
       "      dtype=object)"
      ]
     },
     "execution_count": 7,
     "metadata": {},
     "output_type": "execute_result"
    }
   ],
   "source": [
    "df.Months.unique() #unique values"
   ]
  },
  {
   "cell_type": "code",
   "execution_count": 8,
   "id": "e668df95",
   "metadata": {
    "execution": {
     "iopub.execute_input": "2022-02-23T14:18:56.072670Z",
     "iopub.status.busy": "2022-02-23T14:18:56.071342Z",
     "iopub.status.idle": "2022-02-23T14:18:56.075973Z",
     "shell.execute_reply": "2022-02-23T14:18:56.076470Z",
     "shell.execute_reply.started": "2022-02-23T14:11:24.122241Z"
    },
    "papermill": {
     "duration": 0.049846,
     "end_time": "2022-02-23T14:18:56.076654",
     "exception": false,
     "start_time": "2022-02-23T14:18:56.026808",
     "status": "completed"
    },
    "tags": []
   },
   "outputs": [
    {
     "data": {
      "text/plain": [
       "array(['Jammu and Kashmir', 'Himachal Pradesh', 'Punjab', 'Chandigarh',\n",
       "       'Uttarakhand', 'Haryana', 'Delhi', 'Rajasthan', 'Uttar Pradesh',\n",
       "       'Bihar', 'Sikkim', 'Arunachal Pradesh', 'Nagaland', 'Manipur',\n",
       "       'Mizoram', 'Tripura', 'Meghalaya', 'Assam', 'West Bengal',\n",
       "       'Jharkhand', 'Odisha', 'Chattisgarh', 'Madhya Pradesh', 'Gujrat',\n",
       "       'Daman and Diu', 'Dadra and Nagar Haveli', 'Maharastra',\n",
       "       'Karnataka', 'Goa', 'Lakshadweep', 'Kerala', 'Tamil Nadu',\n",
       "       'Puducherry', 'Andaman and Nicobar Island', 'Telangana',\n",
       "       'Andhra Pradesh', 'Other Territory', 'CBIC', 'Ladakh'],\n",
       "      dtype=object)"
      ]
     },
     "execution_count": 8,
     "metadata": {},
     "output_type": "execute_result"
    }
   ],
   "source": [
    "df.States.unique() #unique values"
   ]
  },
  {
   "cell_type": "code",
   "execution_count": 9,
   "id": "5393813e",
   "metadata": {
    "execution": {
     "iopub.execute_input": "2022-02-23T14:18:56.164575Z",
     "iopub.status.busy": "2022-02-23T14:18:56.163843Z",
     "iopub.status.idle": "2022-02-23T14:18:56.169861Z",
     "shell.execute_reply": "2022-02-23T14:18:56.169293Z",
     "shell.execute_reply.started": "2022-02-23T14:11:24.133878Z"
    },
    "papermill": {
     "duration": 0.052929,
     "end_time": "2022-02-23T14:18:56.170007",
     "exception": false,
     "start_time": "2022-02-23T14:18:56.117078",
     "status": "completed"
    },
    "tags": []
   },
   "outputs": [
    {
     "data": {
      "text/plain": [
       "Years        5\n",
       "Months      12\n",
       "States      39\n",
       "GST       2024\n",
       "dtype: int64"
      ]
     },
     "execution_count": 9,
     "metadata": {},
     "output_type": "execute_result"
    }
   ],
   "source": [
    "df.nunique() # unique value count"
   ]
  },
  {
   "cell_type": "markdown",
   "id": "2036d615",
   "metadata": {
    "papermill": {
     "duration": 0.040089,
     "end_time": "2022-02-23T14:18:56.250643",
     "exception": false,
     "start_time": "2022-02-23T14:18:56.210554",
     "status": "completed"
    },
    "tags": []
   },
   "source": [
    "#### Replacing months with numbers"
   ]
  },
  {
   "cell_type": "code",
   "execution_count": 10,
   "id": "3ed1bbd4",
   "metadata": {
    "execution": {
     "iopub.execute_input": "2022-02-23T14:18:56.349074Z",
     "iopub.status.busy": "2022-02-23T14:18:56.348346Z",
     "iopub.status.idle": "2022-02-23T14:18:56.351706Z",
     "shell.execute_reply": "2022-02-23T14:18:56.351181Z",
     "shell.execute_reply.started": "2022-02-23T14:11:24.151192Z"
    },
    "papermill": {
     "duration": 0.061069,
     "end_time": "2022-02-23T14:18:56.351859",
     "exception": false,
     "start_time": "2022-02-23T14:18:56.290790",
     "status": "completed"
    },
    "tags": []
   },
   "outputs": [
    {
     "data": {
      "text/html": [
       "<div>\n",
       "<style scoped>\n",
       "    .dataframe tbody tr th:only-of-type {\n",
       "        vertical-align: middle;\n",
       "    }\n",
       "\n",
       "    .dataframe tbody tr th {\n",
       "        vertical-align: top;\n",
       "    }\n",
       "\n",
       "    .dataframe thead th {\n",
       "        text-align: right;\n",
       "    }\n",
       "</style>\n",
       "<table border=\"1\" class=\"dataframe\">\n",
       "  <thead>\n",
       "    <tr style=\"text-align: right;\">\n",
       "      <th></th>\n",
       "      <th>Years</th>\n",
       "      <th>Months</th>\n",
       "      <th>States</th>\n",
       "      <th>GST</th>\n",
       "    </tr>\n",
       "  </thead>\n",
       "  <tbody>\n",
       "    <tr>\n",
       "      <th>0</th>\n",
       "      <td>2017</td>\n",
       "      <td>7</td>\n",
       "      <td>Jammu and Kashmir</td>\n",
       "      <td>0.000126</td>\n",
       "    </tr>\n",
       "    <tr>\n",
       "      <th>1</th>\n",
       "      <td>2017</td>\n",
       "      <td>7</td>\n",
       "      <td>Himachal Pradesh</td>\n",
       "      <td>0.174947</td>\n",
       "    </tr>\n",
       "    <tr>\n",
       "      <th>2</th>\n",
       "      <td>2017</td>\n",
       "      <td>7</td>\n",
       "      <td>Punjab</td>\n",
       "      <td>2.723252</td>\n",
       "    </tr>\n",
       "    <tr>\n",
       "      <th>3</th>\n",
       "      <td>2017</td>\n",
       "      <td>7</td>\n",
       "      <td>Chandigarh</td>\n",
       "      <td>0.374057</td>\n",
       "    </tr>\n",
       "    <tr>\n",
       "      <th>4</th>\n",
       "      <td>2017</td>\n",
       "      <td>7</td>\n",
       "      <td>Uttarakhand</td>\n",
       "      <td>0.185385</td>\n",
       "    </tr>\n",
       "  </tbody>\n",
       "</table>\n",
       "</div>"
      ],
      "text/plain": [
       "   Years  Months             States       GST\n",
       "0   2017       7  Jammu and Kashmir  0.000126\n",
       "1   2017       7   Himachal Pradesh  0.174947\n",
       "2   2017       7             Punjab  2.723252\n",
       "3   2017       7         Chandigarh  0.374057\n",
       "4   2017       7        Uttarakhand  0.185385"
      ]
     },
     "execution_count": 10,
     "metadata": {},
     "output_type": "execute_result"
    }
   ],
   "source": [
    "# changing string to int\n",
    "df['Months'].replace({'January': 1, 'February': 2, 'March': 3, 'April': 4, 'May': 5, 'June': 6, \n",
    "                'July': 7, 'August': 8, 'September': 9, 'October': 10, 'November': 11, 'December': 12,}, inplace=True)\n",
    "df.head()"
   ]
  },
  {
   "cell_type": "markdown",
   "id": "61b3c796",
   "metadata": {
    "papermill": {
     "duration": 0.042826,
     "end_time": "2022-02-23T14:18:56.436475",
     "exception": false,
     "start_time": "2022-02-23T14:18:56.393649",
     "status": "completed"
    },
    "tags": []
   },
   "source": [
    "#### Total entries in a year"
   ]
  },
  {
   "cell_type": "code",
   "execution_count": 11,
   "id": "94f18d5b",
   "metadata": {
    "execution": {
     "iopub.execute_input": "2022-02-23T14:18:56.522387Z",
     "iopub.status.busy": "2022-02-23T14:18:56.521669Z",
     "iopub.status.idle": "2022-02-23T14:18:56.531433Z",
     "shell.execute_reply": "2022-02-23T14:18:56.530908Z",
     "shell.execute_reply.started": "2022-02-23T14:11:24.171686Z"
    },
    "papermill": {
     "duration": 0.053712,
     "end_time": "2022-02-23T14:18:56.531578",
     "exception": false,
     "start_time": "2022-02-23T14:18:56.477866",
     "status": "completed"
    },
    "tags": []
   },
   "outputs": [
    {
     "name": "stdout",
     "output_type": "stream",
     "text": [
      "Years\n",
      "2017    228\n",
      "2018    456\n",
      "2019    465\n",
      "2020    468\n",
      "2021    429\n",
      "dtype: int64\n"
     ]
    }
   ],
   "source": [
    "print(df.groupby('Years').size())  # size of unique values"
   ]
  },
  {
   "cell_type": "markdown",
   "id": "0cd102ab",
   "metadata": {
    "papermill": {
     "duration": 0.041086,
     "end_time": "2022-02-23T14:18:56.614469",
     "exception": false,
     "start_time": "2022-02-23T14:18:56.573383",
     "status": "completed"
    },
    "tags": []
   },
   "source": [
    "#### The data can be visualized by using features of matplotlib & Seaborn library. By doing so, we can get the following results."
   ]
  },
  {
   "cell_type": "code",
   "execution_count": 12,
   "id": "1822bf3b",
   "metadata": {
    "execution": {
     "iopub.execute_input": "2022-02-23T14:18:56.704431Z",
     "iopub.status.busy": "2022-02-23T14:18:56.703651Z",
     "iopub.status.idle": "2022-02-23T14:18:56.911030Z",
     "shell.execute_reply": "2022-02-23T14:18:56.910159Z",
     "shell.execute_reply.started": "2022-02-23T14:11:24.185198Z"
    },
    "papermill": {
     "duration": 0.255488,
     "end_time": "2022-02-23T14:18:56.911182",
     "exception": false,
     "start_time": "2022-02-23T14:18:56.655694",
     "status": "completed"
    },
    "tags": []
   },
   "outputs": [
    {
     "data": {
      "image/png": "[encoded data removed]",
      "text/plain": [
       "<Figure size 432x288 with 1 Axes>"
      ]
     },
     "metadata": {
      "needs_background": "light"
     },
     "output_type": "display_data"
    }
   ],
   "source": [
    "# count plot\n",
    "sns.countplot(df['Years'],label='Count') # count plot\n",
    "plt.show()"
   ]
  },
  {
   "cell_type": "markdown",
   "id": "dab4e547",
   "metadata": {
    "papermill": {
     "duration": 0.043022,
     "end_time": "2022-02-23T14:18:56.996801",
     "exception": false,
     "start_time": "2022-02-23T14:18:56.953779",
     "status": "completed"
    },
    "tags": []
   },
   "source": [
    "#### Box plots are useful as they provide a visual summary of the data enabling researchers to quickly identify mean values."
   ]
  },
  {
   "cell_type": "code",
   "execution_count": 13,
   "id": "6d22644e",
   "metadata": {
    "execution": {
     "iopub.execute_input": "2022-02-23T14:18:57.086438Z",
     "iopub.status.busy": "2022-02-23T14:18:57.085393Z",
     "iopub.status.idle": "2022-02-23T14:18:57.510411Z",
     "shell.execute_reply": "2022-02-23T14:18:57.510994Z",
     "shell.execute_reply.started": "2022-02-23T14:11:24.30349Z"
    },
    "papermill": {
     "duration": 0.471252,
     "end_time": "2022-02-23T14:18:57.511174",
     "exception": false,
     "start_time": "2022-02-23T14:18:57.039922",
     "status": "completed"
    },
    "tags": []
   },
   "outputs": [
    {
     "data": {
      "image/png": "[encoded data removed]",
      "text/plain": [
       "<Figure size 720x720 with 4 Axes>"
      ]
     },
     "metadata": {
      "needs_background": "light"
     },
     "output_type": "display_data"
    }
   ],
   "source": [
    "#box plot\n",
    "df.plot(kind='box', subplots=True, layout=(2,2), sharex=False, sharey=False, figsize=(10,10), title='Box Plot for each input variable')\n",
    "# plt.savefig('GST_box')\n",
    "plt.show()"
   ]
  },
  {
   "cell_type": "markdown",
   "id": "c7cfb944",
   "metadata": {
    "papermill": {
     "duration": 0.044826,
     "end_time": "2022-02-23T14:18:57.599794",
     "exception": false,
     "start_time": "2022-02-23T14:18:57.554968",
     "status": "completed"
    },
    "tags": []
   },
   "source": [
    "#### Histogram is used to summarize discrete or continuous data that are measured on an interval scale."
   ]
  },
  {
   "cell_type": "code",
   "execution_count": 14,
   "id": "7c9c2e44",
   "metadata": {
    "execution": {
     "iopub.execute_input": "2022-02-23T14:18:57.694670Z",
     "iopub.status.busy": "2022-02-23T14:18:57.693505Z",
     "iopub.status.idle": "2022-02-23T14:18:58.365577Z",
     "shell.execute_reply": "2022-02-23T14:18:58.366070Z",
     "shell.execute_reply.started": "2022-02-23T14:11:24.609542Z"
    },
    "papermill": {
     "duration": 0.721756,
     "end_time": "2022-02-23T14:18:58.366251",
     "exception": false,
     "start_time": "2022-02-23T14:18:57.644495",
     "status": "completed"
    },
    "tags": []
   },
   "outputs": [
    {
     "data": {
      "image/png": "[encoded data removed]",
      "text/plain": [
       "<Figure size 432x288 with 4 Axes>"
      ]
     },
     "metadata": {
      "needs_background": "light"
     },
     "output_type": "display_data"
    }
   ],
   "source": [
    "# histogram\n",
    "df.hist()\n",
    "plt.tight_layout()\n",
    "# plt.savefig('gst_hist')  # to save graph image as png"
   ]
  },
  {
   "cell_type": "markdown",
   "id": "8f83a585",
   "metadata": {
    "papermill": {
     "duration": 0.044029,
     "end_time": "2022-02-23T14:18:58.455019",
     "exception": false,
     "start_time": "2022-02-23T14:18:58.410990",
     "status": "completed"
    },
    "tags": []
   },
   "source": [
    "#### Scatter plots are used to plot data points on a horizontal and a vertical axis in the attempt to show how much one variable is affected by another."
   ]
  },
  {
   "cell_type": "code",
   "execution_count": 15,
   "id": "76731db4",
   "metadata": {
    "execution": {
     "iopub.execute_input": "2022-02-23T14:18:58.551919Z",
     "iopub.status.busy": "2022-02-23T14:18:58.551190Z",
     "iopub.status.idle": "2022-02-23T14:18:58.997000Z",
     "shell.execute_reply": "2022-02-23T14:18:58.996301Z",
     "shell.execute_reply.started": "2022-02-23T14:11:24.996105Z"
    },
    "papermill": {
     "duration": 0.497638,
     "end_time": "2022-02-23T14:18:58.997150",
     "exception": false,
     "start_time": "2022-02-23T14:18:58.499512",
     "status": "completed"
    },
    "tags": []
   },
   "outputs": [
    {
     "data": {
      "image/png": "[encoded data removed]",
      "text/plain": [
       "<Figure size 432x288 with 1 Axes>"
      ]
     },
     "metadata": {
      "needs_background": "light"
     },
     "output_type": "display_data"
    }
   ],
   "source": [
    "sns.scatterplot(data=df)\n",
    "plt.show()"
   ]
  },
  {
   "cell_type": "markdown",
   "id": "c4827422",
   "metadata": {
    "papermill": {
     "duration": 0.045413,
     "end_time": "2022-02-23T14:18:59.089911",
     "exception": false,
     "start_time": "2022-02-23T14:18:59.044498",
     "status": "completed"
    },
    "tags": []
   },
   "source": [
    "#### Set_option is used to precise 2 decimal values. \n",
    "#### The describe() method computes and displays summary statistics for a Python dataframe"
   ]
  },
  {
   "cell_type": "code",
   "execution_count": 16,
   "id": "2aaf5631",
   "metadata": {
    "execution": {
     "iopub.execute_input": "2022-02-23T14:18:59.196247Z",
     "iopub.status.busy": "2022-02-23T14:18:59.194735Z",
     "iopub.status.idle": "2022-02-23T14:18:59.211592Z",
     "shell.execute_reply": "2022-02-23T14:18:59.212235Z",
     "shell.execute_reply.started": "2022-02-23T14:11:25.306873Z"
    },
    "papermill": {
     "duration": 0.076849,
     "end_time": "2022-02-23T14:18:59.212437",
     "exception": false,
     "start_time": "2022-02-23T14:18:59.135588",
     "status": "completed"
    },
    "tags": []
   },
   "outputs": [
    {
     "data": {
      "text/html": [
       "<div>\n",
       "<style scoped>\n",
       "    .dataframe tbody tr th:only-of-type {\n",
       "        vertical-align: middle;\n",
       "    }\n",
       "\n",
       "    .dataframe tbody tr th {\n",
       "        vertical-align: top;\n",
       "    }\n",
       "\n",
       "    .dataframe thead th {\n",
       "        text-align: right;\n",
       "    }\n",
       "</style>\n",
       "<table border=\"1\" class=\"dataframe\">\n",
       "  <thead>\n",
       "    <tr style=\"text-align: right;\">\n",
       "      <th></th>\n",
       "      <th>Years</th>\n",
       "      <th>Months</th>\n",
       "      <th>GST</th>\n",
       "    </tr>\n",
       "  </thead>\n",
       "  <tbody>\n",
       "    <tr>\n",
       "      <th>count</th>\n",
       "      <td>2046.0</td>\n",
       "      <td>2046.00</td>\n",
       "      <td>2046.00</td>\n",
       "    </tr>\n",
       "    <tr>\n",
       "      <th>mean</th>\n",
       "      <td>2019.2</td>\n",
       "      <td>6.74</td>\n",
       "      <td>1920.12</td>\n",
       "    </tr>\n",
       "    <tr>\n",
       "      <th>std</th>\n",
       "      <td>1.3</td>\n",
       "      <td>3.39</td>\n",
       "      <td>2901.01</td>\n",
       "    </tr>\n",
       "    <tr>\n",
       "      <th>min</th>\n",
       "      <td>2017.0</td>\n",
       "      <td>1.00</td>\n",
       "      <td>0.00</td>\n",
       "    </tr>\n",
       "    <tr>\n",
       "      <th>25%</th>\n",
       "      <td>2018.0</td>\n",
       "      <td>4.00</td>\n",
       "      <td>91.42</td>\n",
       "    </tr>\n",
       "    <tr>\n",
       "      <th>50%</th>\n",
       "      <td>2019.0</td>\n",
       "      <td>7.00</td>\n",
       "      <td>688.15</td>\n",
       "    </tr>\n",
       "    <tr>\n",
       "      <th>75%</th>\n",
       "      <td>2020.0</td>\n",
       "      <td>10.00</td>\n",
       "      <td>2645.43</td>\n",
       "    </tr>\n",
       "    <tr>\n",
       "      <th>max</th>\n",
       "      <td>2021.0</td>\n",
       "      <td>12.00</td>\n",
       "      <td>22012.63</td>\n",
       "    </tr>\n",
       "  </tbody>\n",
       "</table>\n",
       "</div>"
      ],
      "text/plain": [
       "        Years   Months       GST\n",
       "count  2046.0  2046.00   2046.00\n",
       "mean   2019.2     6.74   1920.12\n",
       "std       1.3     3.39   2901.01\n",
       "min    2017.0     1.00      0.00\n",
       "25%    2018.0     4.00     91.42\n",
       "50%    2019.0     7.00    688.15\n",
       "75%    2020.0    10.00   2645.43\n",
       "max    2021.0    12.00  22012.63"
      ]
     },
     "execution_count": 16,
     "metadata": {},
     "output_type": "execute_result"
    }
   ],
   "source": [
    "set_option('precision',2)\n",
    "df.describe() # only number columns # statistical data"
   ]
  },
  {
   "cell_type": "markdown",
   "id": "1d029052",
   "metadata": {
    "papermill": {
     "duration": 0.046224,
     "end_time": "2022-02-23T14:18:59.304703",
     "exception": false,
     "start_time": "2022-02-23T14:18:59.258479",
     "status": "completed"
    },
    "tags": []
   },
   "source": [
    "#### Data Preparation and scalling."
   ]
  },
  {
   "cell_type": "code",
   "execution_count": 17,
   "id": "f6835127",
   "metadata": {
    "execution": {
     "iopub.execute_input": "2022-02-23T14:18:59.404401Z",
     "iopub.status.busy": "2022-02-23T14:18:59.403642Z",
     "iopub.status.idle": "2022-02-23T14:18:59.593136Z",
     "shell.execute_reply": "2022-02-23T14:18:59.592501Z",
     "shell.execute_reply.started": "2022-02-23T14:11:25.329606Z"
    },
    "papermill": {
     "duration": 0.241836,
     "end_time": "2022-02-23T14:18:59.593311",
     "exception": false,
     "start_time": "2022-02-23T14:18:59.351475",
     "status": "completed"
    },
    "tags": []
   },
   "outputs": [],
   "source": [
    "#preparing data with scaling\n",
    "\n",
    "from sklearn.model_selection import train_test_split\n",
    "from sklearn.preprocessing import MinMaxScaler\n",
    "\n",
    "feature_names = ['GST','Months']\n",
    "x=df[feature_names]\n",
    "y=df['Years']\n",
    "\n",
    "x_train, x_test, y_train, y_test = train_test_split(x,y, random_state=0)\n",
    "\n",
    "# print(x_train[:3]) # to check output\n",
    "\n",
    "scaler = MinMaxScaler()\n",
    "x_train=scaler.fit_transform(x_train)\n",
    "x_test= scaler.transform(x_test)\n",
    "\n",
    "# print(\"\\nAfter scaling\\n\")\n",
    "# print(x_train[:3]) # to check output\n"
   ]
  },
  {
   "cell_type": "markdown",
   "id": "6592e68d",
   "metadata": {
    "papermill": {
     "duration": 0.046025,
     "end_time": "2022-02-23T14:18:59.686211",
     "exception": false,
     "start_time": "2022-02-23T14:18:59.640186",
     "status": "completed"
    },
    "tags": []
   },
   "source": [
    "## 1. Logistic Regresion\n",
    "#### Logistic regression is a fundamental classification technique. It belongs to the group of linear classifiers and is somewhat similar to polynomial and linear regression. Logistic regression is fast and relatively uncomplicated, and it’s convenient for you to interpret the results."
   ]
  },
  {
   "cell_type": "code",
   "execution_count": 18,
   "id": "4c45571d",
   "metadata": {
    "execution": {
     "iopub.execute_input": "2022-02-23T14:18:59.786485Z",
     "iopub.status.busy": "2022-02-23T14:18:59.783348Z",
     "iopub.status.idle": "2022-02-23T14:18:59.911988Z",
     "shell.execute_reply": "2022-02-23T14:18:59.912502Z",
     "shell.execute_reply.started": "2022-02-23T14:11:25.346705Z"
    },
    "papermill": {
     "duration": 0.17939,
     "end_time": "2022-02-23T14:18:59.912678",
     "exception": false,
     "start_time": "2022-02-23T14:18:59.733288",
     "status": "completed"
    },
    "tags": []
   },
   "outputs": [
    {
     "name": "stdout",
     "output_type": "stream",
     "text": [
      "Accuracy of Logistic regression classifier on training set:0.25\n",
      "Accuracy of Logistic regression classifier on test set:0.21\n"
     ]
    }
   ],
   "source": [
    "from sklearn.linear_model import LogisticRegression   # machine learning lib/model\n",
    "\n",
    "#logistic regression\n",
    "logreg = LogisticRegression()  # machine learning algorithm\n",
    "logreg.fit(x_train, y_train)\n",
    "\n",
    "#print score of train data\n",
    "print('Accuracy of Logistic regression classifier on training set:{:.2f}'\n",
    "     .format(logreg.score(x_train, y_train)))\n",
    "\n",
    "#print score of test data\n",
    "print('Accuracy of Logistic regression classifier on test set:{:.2f}'\n",
    "     .format(logreg.score(x_test, y_test)))"
   ]
  },
  {
   "cell_type": "markdown",
   "id": "0db2e28f",
   "metadata": {
    "papermill": {
     "duration": 0.047011,
     "end_time": "2022-02-23T14:19:00.008072",
     "exception": false,
     "start_time": "2022-02-23T14:18:59.961061",
     "status": "completed"
    },
    "tags": []
   },
   "source": [
    "## 2. Decission Tree\n",
    "#### A decision tree is a flowchart-like tree structure where an internal node represents feature(or attribute), the branch represents a decision rule, and each leaf node represents the outcome. The topmost node in a decision tree is known as the root node. It learns to partition on the basis of the attribute value."
   ]
  },
  {
   "cell_type": "code",
   "execution_count": 19,
   "id": "05e7ef4f",
   "metadata": {
    "execution": {
     "iopub.execute_input": "2022-02-23T14:19:00.107331Z",
     "iopub.status.busy": "2022-02-23T14:19:00.106563Z",
     "iopub.status.idle": "2022-02-23T14:19:00.217998Z",
     "shell.execute_reply": "2022-02-23T14:19:00.218472Z",
     "shell.execute_reply.started": "2022-02-23T14:11:25.385646Z"
    },
    "papermill": {
     "duration": 0.162883,
     "end_time": "2022-02-23T14:19:00.218648",
     "exception": false,
     "start_time": "2022-02-23T14:19:00.055765",
     "status": "completed"
    },
    "tags": []
   },
   "outputs": [
    {
     "name": "stdout",
     "output_type": "stream",
     "text": [
      "Accuracy of Decision Tree classifier on training set:1.00\n",
      "Accuracy of Decision Tree Classifier on test set:0.24\n"
     ]
    }
   ],
   "source": [
    "from sklearn.tree import DecisionTreeClassifier\n",
    "\n",
    "# decission tree\n",
    "clf = DecisionTreeClassifier().fit(x_train, y_train)\n",
    "\n",
    "#print score of train data\n",
    "print('Accuracy of Decision Tree classifier on training set:{:.2f}'\n",
    "      .format(clf.score(x_train, y_train)))\n",
    "\n",
    "#print score of test data\n",
    "print('Accuracy of Decision Tree Classifier on test set:{:.2f}'\n",
    "      .format(clf.score(x_test, y_test)))"
   ]
  },
  {
   "cell_type": "markdown",
   "id": "f727c6e0",
   "metadata": {
    "papermill": {
     "duration": 0.052028,
     "end_time": "2022-02-23T14:19:00.318486",
     "exception": false,
     "start_time": "2022-02-23T14:19:00.266458",
     "status": "completed"
    },
    "tags": []
   },
   "source": [
    "## 3. KNN ( K- Nearest Neighbors)\n",
    "#### KNN works by finding the distances between a query and all the examples in the data, selecting the specified number examples (K) closest to the query, then votes for the most frequent label (in the case of classification) or averages the labels (in the case of regression)."
   ]
  },
  {
   "cell_type": "code",
   "execution_count": 20,
   "id": "16196cd8",
   "metadata": {
    "execution": {
     "iopub.execute_input": "2022-02-23T14:19:00.417726Z",
     "iopub.status.busy": "2022-02-23T14:19:00.417062Z",
     "iopub.status.idle": "2022-02-23T14:19:00.506055Z",
     "shell.execute_reply": "2022-02-23T14:19:00.507209Z",
     "shell.execute_reply.started": "2022-02-23T14:11:25.401999Z"
    },
    "papermill": {
     "duration": 0.140478,
     "end_time": "2022-02-23T14:19:00.507548",
     "exception": false,
     "start_time": "2022-02-23T14:19:00.367070",
     "status": "completed"
    },
    "tags": []
   },
   "outputs": [
    {
     "name": "stdout",
     "output_type": "stream",
     "text": [
      "Accuracy of KNN classifier on training set:0.44\n",
      "Accuracy of KNN Classifier on test set:0.18\n"
     ]
    }
   ],
   "source": [
    "from sklearn.neighbors import KNeighborsClassifier\n",
    "\n",
    "# KNN method\n",
    "knn = KNeighborsClassifier()\n",
    "knn.fit(x_train, y_train)\n",
    "\n",
    "#print score of train data\n",
    "print('Accuracy of KNN classifier on training set:{:.2f}'\n",
    "     .format(knn.score(x_train, y_train)))\n",
    "\n",
    "#print score of test data\n",
    "print('Accuracy of KNN Classifier on test set:{:.2f}'\n",
    "     .format(knn.score(x_test, y_test)))"
   ]
  },
  {
   "cell_type": "markdown",
   "id": "81b18802",
   "metadata": {
    "papermill": {
     "duration": 0.047484,
     "end_time": "2022-02-23T14:19:00.604909",
     "exception": false,
     "start_time": "2022-02-23T14:19:00.557425",
     "status": "completed"
    },
    "tags": []
   },
   "source": [
    "## 4. Gaussian Naive Bayes Classifiers\n",
    "#### Gaussian Naive Bayes is a variant of Naive Bayes that follows Gaussian normal distribution and supports continuous data. Naive Bayes are a group of supervised machine learning classification algorithms based on the Bayes theorem. It is a simple classification technique, but has high functionality."
   ]
  },
  {
   "cell_type": "code",
   "execution_count": 21,
   "id": "8b36b34f",
   "metadata": {
    "execution": {
     "iopub.execute_input": "2022-02-23T14:19:00.708982Z",
     "iopub.status.busy": "2022-02-23T14:19:00.708269Z",
     "iopub.status.idle": "2022-02-23T14:19:00.719126Z",
     "shell.execute_reply": "2022-02-23T14:19:00.720150Z",
     "shell.execute_reply.started": "2022-02-23T14:11:25.465504Z"
    },
    "papermill": {
     "duration": 0.066745,
     "end_time": "2022-02-23T14:19:00.720425",
     "exception": false,
     "start_time": "2022-02-23T14:19:00.653680",
     "status": "completed"
    },
    "tags": []
   },
   "outputs": [
    {
     "name": "stdout",
     "output_type": "stream",
     "text": [
      "Accuracy of GNB classifier on training set:0.25\n",
      "Accuracy of GNB Classifier on test set:0.22\n"
     ]
    }
   ],
   "source": [
    "from sklearn.naive_bayes import GaussianNB\n",
    "\n",
    "# Gaussian Naive bayes \n",
    "gnb = GaussianNB()\n",
    "gnb.fit(x_train, y_train)\n",
    "\n",
    "#print score of train data\n",
    "print('Accuracy of GNB classifier on training set:{:.2f}'\n",
    "     .format(gnb.score(x_train, y_train)))\n",
    "\n",
    "#print score of test data\n",
    "print('Accuracy of GNB Classifier on test set:{:.2f}'\n",
    "     .format(gnb.score(x_test, y_test)))"
   ]
  },
  {
   "cell_type": "markdown",
   "id": "25d05391",
   "metadata": {
    "papermill": {
     "duration": 0.049853,
     "end_time": "2022-02-23T14:19:00.820002",
     "exception": false,
     "start_time": "2022-02-23T14:19:00.770149",
     "status": "completed"
    },
    "tags": []
   },
   "source": [
    "## 5. Support Vector Machine (SVM) Classifier\n",
    "#### Support vector machines (SVMs) are a set of supervised learning methods used for classification, regression and outliers detection. ... Uses a subset of training points in the decision function (called support vectors), so it is also memory efficient."
   ]
  },
  {
   "cell_type": "code",
   "execution_count": 22,
   "id": "02917cfb",
   "metadata": {
    "execution": {
     "iopub.execute_input": "2022-02-23T14:19:00.923813Z",
     "iopub.status.busy": "2022-02-23T14:19:00.923038Z",
     "iopub.status.idle": "2022-02-23T14:19:01.085787Z",
     "shell.execute_reply": "2022-02-23T14:19:01.085192Z",
     "shell.execute_reply.started": "2022-02-23T14:11:25.478785Z"
    },
    "papermill": {
     "duration": 0.215815,
     "end_time": "2022-02-23T14:19:01.085948",
     "exception": false,
     "start_time": "2022-02-23T14:19:00.870133",
     "status": "completed"
    },
    "tags": []
   },
   "outputs": [
    {
     "name": "stdout",
     "output_type": "stream",
     "text": [
      "Accuracy of SVM classifier on training set:0.25\n",
      "Accuracy of SVM Classifier on test set:0.21\n"
     ]
    }
   ],
   "source": [
    "from sklearn.svm import SVC\n",
    "\n",
    "# SVM classifier\n",
    "svm = SVC()\n",
    "svm.fit(x_train, y_train)\n",
    "\n",
    "#print score of train data\n",
    "print('Accuracy of SVM classifier on training set:{:.2f}'\n",
    "     .format(svm.score(x_train, y_train)))\n",
    "\n",
    "#print score of test data\n",
    "print('Accuracy of SVM Classifier on test set:{:.2f}'\n",
    "     .format(svm.score(x_test, y_test)))"
   ]
  },
  {
   "cell_type": "code",
   "execution_count": 23,
   "id": "dcd1ac2d",
   "metadata": {
    "execution": {
     "iopub.execute_input": "2022-02-23T14:19:01.195533Z",
     "iopub.status.busy": "2022-02-23T14:19:01.194793Z",
     "iopub.status.idle": "2022-02-23T14:19:01.198934Z",
     "shell.execute_reply": "2022-02-23T14:19:01.199456Z",
     "shell.execute_reply.started": "2022-02-23T14:11:25.657128Z"
    },
    "papermill": {
     "duration": 0.064059,
     "end_time": "2022-02-23T14:19:01.199644",
     "exception": false,
     "start_time": "2022-02-23T14:19:01.135585",
     "status": "completed"
    },
    "tags": []
   },
   "outputs": [
    {
     "data": {
      "text/html": [
       "<div>\n",
       "<style scoped>\n",
       "    .dataframe tbody tr th:only-of-type {\n",
       "        vertical-align: middle;\n",
       "    }\n",
       "\n",
       "    .dataframe tbody tr th {\n",
       "        vertical-align: top;\n",
       "    }\n",
       "\n",
       "    .dataframe thead th {\n",
       "        text-align: right;\n",
       "    }\n",
       "</style>\n",
       "<table border=\"1\" class=\"dataframe\">\n",
       "  <thead>\n",
       "    <tr style=\"text-align: right;\">\n",
       "      <th></th>\n",
       "      <th>Training Accuracy (in %)</th>\n",
       "      <th>Testing Accuracy (in %)</th>\n",
       "    </tr>\n",
       "  </thead>\n",
       "  <tbody>\n",
       "    <tr>\n",
       "      <th>Logistic Regression</th>\n",
       "      <td>25</td>\n",
       "      <td>21</td>\n",
       "    </tr>\n",
       "    <tr>\n",
       "      <th>Decision Tree</th>\n",
       "      <td>100</td>\n",
       "      <td>24</td>\n",
       "    </tr>\n",
       "    <tr>\n",
       "      <th>K-Nearest Neighbour (KNN)</th>\n",
       "      <td>44</td>\n",
       "      <td>18</td>\n",
       "    </tr>\n",
       "    <tr>\n",
       "      <th>Gaussian Naive Bayes</th>\n",
       "      <td>25</td>\n",
       "      <td>22</td>\n",
       "    </tr>\n",
       "    <tr>\n",
       "      <th>Support Vector Machine (SVM)</th>\n",
       "      <td>25</td>\n",
       "      <td>21</td>\n",
       "    </tr>\n",
       "  </tbody>\n",
       "</table>\n",
       "</div>"
      ],
      "text/plain": [
       "                              Training Accuracy (in %)  \\\n",
       "Logistic Regression                                 25   \n",
       "Decision Tree                                      100   \n",
       "K-Nearest Neighbour (KNN)                           44   \n",
       "Gaussian Naive Bayes                                25   \n",
       "Support Vector Machine (SVM)                        25   \n",
       "\n",
       "                              Testing Accuracy (in %)  \n",
       "Logistic Regression                                21  \n",
       "Decision Tree                                      24  \n",
       "K-Nearest Neighbour (KNN)                          18  \n",
       "Gaussian Naive Bayes                               22  \n",
       "Support Vector Machine (SVM)                       21  "
      ]
     },
     "execution_count": 23,
     "metadata": {},
     "output_type": "execute_result"
    }
   ],
   "source": [
    "data = {'Training Accuracy (in %)':[25,100,44,25,25],'Testing Accuracy (in %)':[21,24,18,22,21]}  \n",
    "   \n",
    "df = pd.DataFrame(data, index =['Logistic Regression','Decision Tree','K-Nearest Neighbour (KNN)','Gaussian Naive Bayes','Support Vector Machine (SVM)'])  \n",
    "  \n",
    "df"
   ]
  }
 ],
 "metadata": {
  "kernelspec": {
   "display_name": "Python 3",
   "language": "python",
   "name": "python3"
  },
  "language_info": {
   "codemirror_mode": {
    "name": "ipython",
    "version": 3
   },
   "file_extension": ".py",
   "mimetype": "text/x-python",
   "name": "python",
   "nbconvert_exporter": "python",
   "pygments_lexer": "ipython3",
   "version": "3.7.12"
  },
  "papermill": {
   "default_parameters": {},
   "duration": 33.767273,
   "end_time": "2022-02-23T14:19:04.415432",
   "environment_variables": {},
   "exception": null,
   "input_path": "__notebook__.ipynb",
   "output_path": "__notebook__.ipynb",
   "parameters": {},
   "start_time": "2022-02-23T14:18:30.648159",
   "version": "2.3.3"
  }
 },
 "nbformat": 4,
 "nbformat_minor": 5
}
