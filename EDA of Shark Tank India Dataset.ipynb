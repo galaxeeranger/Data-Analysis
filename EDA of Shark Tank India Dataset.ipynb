{
 "cells": [
  {
   "cell_type": "markdown",
   "id": "12845157",
   "metadata": {
    "papermill": {
     "duration": 0.025165,
     "end_time": "2022-02-16T14:19:54.364768",
     "exception": false,
     "start_time": "2022-02-16T14:19:54.339603",
     "status": "completed"
    },
    "tags": []
   },
   "source": [
    "### About Dataset\n",
    "\n",
    "The dataset used is from https://www.kaggle.com/anshulmehtakaggl/sharktankindia containing the details of a popular show in Indian television - Shark Tank India.\n",
    "\n",
    "There are 14 columns with Episode Number, Pitch Id, Name of the Brand, Brief Idea of the Brand, The amount invested by the sharks, The amount of debt given (if any), the amount of equity diluted by the brand, and the Next seven columns correspond to the Sharks and the Y states if they have invested in that Brand or not. The last column is for the Season Number."
   ]
  },
  {
   "cell_type": "markdown",
   "id": "070ba514",
   "metadata": {
    "papermill": {
     "duration": 0.02397,
     "end_time": "2022-02-16T14:19:54.414902",
     "exception": false,
     "start_time": "2022-02-16T14:19:54.390932",
     "status": "completed"
    },
    "tags": []
   },
   "source": [
    "### Sharks\n",
    "\n",
    "Any five of the following seven sharks are present in each episode except episodes 34-35\n",
    "\n",
    "* Ashneer Grover Managing Director and Co-founder of BharatPe\n",
    "* Aman Gupta Co-founder and Chief Marketing Officer of boAt\n",
    "* Anupam Mittal Founder and CEO of Shaadi.com and People Group\n",
    "* Ghazal Alagh Co-founder and Chief Mama of MamaEarth\n",
    "* Namita Thapar Executive Director of Emcure Pharmaceuticals\n",
    "* Peyush Bansal Co-founder and CEO of Lenskart\n",
    "* Vineeta Singh CEO and co-founder of SUGAR Cosmetics"
   ]
  },
  {
   "cell_type": "markdown",
   "id": "c72a4ee4",
   "metadata": {
    "papermill": {
     "duration": 0.024002,
     "end_time": "2022-02-16T14:19:54.463186",
     "exception": false,
     "start_time": "2022-02-16T14:19:54.439184",
     "status": "completed"
    },
    "tags": []
   },
   "source": [
    "### Importing modules"
   ]
  },
  {
   "cell_type": "code",
   "execution_count": 1,
   "id": "2dab36d0",
   "metadata": {
    "execution": {
     "iopub.execute_input": "2022-02-16T14:19:54.516039Z",
     "iopub.status.busy": "2022-02-16T14:19:54.514810Z",
     "iopub.status.idle": "2022-02-16T14:19:55.597995Z",
     "shell.execute_reply": "2022-02-16T14:19:55.597403Z",
     "shell.execute_reply.started": "2022-02-16T13:44:59.225723Z"
    },
    "papermill": {
     "duration": 1.110722,
     "end_time": "2022-02-16T14:19:55.598165",
     "exception": false,
     "start_time": "2022-02-16T14:19:54.487443",
     "status": "completed"
    },
    "tags": []
   },
   "outputs": [],
   "source": [
    "import pandas as pd\n",
    "from pandas import set_option\n",
    "import matplotlib.pyplot as plt\n",
    "import seaborn as sns\n",
    "import numpy as np\n",
    "from scipy.stats import norm\n",
    "from sklearn.preprocessing import StandardScaler\n",
    "\n",
    "from scipy import stats\n",
    "import warnings\n",
    "warnings.filterwarnings('ignore')\n",
    "%matplotlib inline"
   ]
  },
  {
   "cell_type": "code",
   "execution_count": 2,
   "id": "a374bf51",
   "metadata": {
    "execution": {
     "iopub.execute_input": "2022-02-16T14:19:55.636367Z",
     "iopub.status.busy": "2022-02-16T14:19:55.635605Z",
     "iopub.status.idle": "2022-02-16T14:19:57.701176Z",
     "shell.execute_reply": "2022-02-16T14:19:57.700482Z",
     "shell.execute_reply.started": "2022-02-16T13:45:13.516318Z"
    },
    "papermill": {
     "duration": 2.086955,
     "end_time": "2022-02-16T14:19:57.701310",
     "exception": false,
     "start_time": "2022-02-16T14:19:55.614355",
     "status": "completed"
    },
    "tags": []
   },
   "outputs": [],
   "source": [
    "import plotly.express as px\n",
    "import plotly.graph_objects as go\n",
    "import plotly.io as pio\n",
    "import plotly.express as px\n",
    "\n",
    "pio.templates.default = \"plotly_dark\""
   ]
  },
  {
   "cell_type": "code",
   "execution_count": 3,
   "id": "a36fbc15",
   "metadata": {
    "execution": {
     "iopub.execute_input": "2022-02-16T14:19:57.753910Z",
     "iopub.status.busy": "2022-02-16T14:19:57.753105Z",
     "iopub.status.idle": "2022-02-16T14:19:57.785477Z",
     "shell.execute_reply": "2022-02-16T14:19:57.786043Z",
     "shell.execute_reply.started": "2022-02-16T13:54:54.116385Z"
    },
    "papermill": {
     "duration": 0.060539,
     "end_time": "2022-02-16T14:19:57.786265",
     "exception": false,
     "start_time": "2022-02-16T14:19:57.725726",
     "status": "completed"
    },
    "tags": []
   },
   "outputs": [
    {
     "data": {
      "text/html": [
       "<div>\n",
       "<style scoped>\n",
       "    .dataframe tbody tr th:only-of-type {\n",
       "        vertical-align: middle;\n",
       "    }\n",
       "\n",
       "    .dataframe tbody tr th {\n",
       "        vertical-align: top;\n",
       "    }\n",
       "\n",
       "    .dataframe thead th {\n",
       "        text-align: right;\n",
       "    }\n",
       "</style>\n",
       "<table border=\"1\" class=\"dataframe\">\n",
       "  <thead>\n",
       "    <tr style=\"text-align: right;\">\n",
       "      <th></th>\n",
       "      <th>Episode Number</th>\n",
       "      <th>Pitch Number</th>\n",
       "      <th>Brand</th>\n",
       "      <th>Idea</th>\n",
       "      <th>Investment Amount (In Lakhs INR)</th>\n",
       "      <th>Debt (In lakhs INR)</th>\n",
       "      <th>Equity</th>\n",
       "      <th>Anupam</th>\n",
       "      <th>Ashneer</th>\n",
       "      <th>Namita</th>\n",
       "      <th>Aman</th>\n",
       "      <th>Peyush</th>\n",
       "      <th>Vineeta</th>\n",
       "      <th>Ghazal</th>\n",
       "      <th>Season</th>\n",
       "    </tr>\n",
       "  </thead>\n",
       "  <tbody>\n",
       "    <tr>\n",
       "      <th>0</th>\n",
       "      <td>1</td>\n",
       "      <td>1</td>\n",
       "      <td>BluePine Industries</td>\n",
       "      <td>Frozen Momos</td>\n",
       "      <td>75</td>\n",
       "      <td>0</td>\n",
       "      <td>18%</td>\n",
       "      <td>N</td>\n",
       "      <td>Y</td>\n",
       "      <td>N</td>\n",
       "      <td>Y</td>\n",
       "      <td>N</td>\n",
       "      <td>Y</td>\n",
       "      <td>N</td>\n",
       "      <td>1</td>\n",
       "    </tr>\n",
       "    <tr>\n",
       "      <th>1</th>\n",
       "      <td>1</td>\n",
       "      <td>2</td>\n",
       "      <td>Booz scooters</td>\n",
       "      <td>Renting e-bike for mobility in private spaces</td>\n",
       "      <td>40</td>\n",
       "      <td>0</td>\n",
       "      <td>50%</td>\n",
       "      <td>N</td>\n",
       "      <td>Y</td>\n",
       "      <td>N</td>\n",
       "      <td>N</td>\n",
       "      <td>N</td>\n",
       "      <td>Y</td>\n",
       "      <td>N</td>\n",
       "      <td>1</td>\n",
       "    </tr>\n",
       "    <tr>\n",
       "      <th>2</th>\n",
       "      <td>1</td>\n",
       "      <td>3</td>\n",
       "      <td>Heart up my Sleeves</td>\n",
       "      <td>Detachable Sleeves</td>\n",
       "      <td>25</td>\n",
       "      <td>0</td>\n",
       "      <td>30%</td>\n",
       "      <td>Y</td>\n",
       "      <td>N</td>\n",
       "      <td>N</td>\n",
       "      <td>N</td>\n",
       "      <td>N</td>\n",
       "      <td>Y</td>\n",
       "      <td>N</td>\n",
       "      <td>1</td>\n",
       "    </tr>\n",
       "    <tr>\n",
       "      <th>3</th>\n",
       "      <td>2</td>\n",
       "      <td>4</td>\n",
       "      <td>Tagz Foods</td>\n",
       "      <td>Healthy Potato Chips</td>\n",
       "      <td>70</td>\n",
       "      <td>0</td>\n",
       "      <td>2.75%</td>\n",
       "      <td>N</td>\n",
       "      <td>Y</td>\n",
       "      <td>N</td>\n",
       "      <td>N</td>\n",
       "      <td>N</td>\n",
       "      <td>N</td>\n",
       "      <td>N</td>\n",
       "      <td>1</td>\n",
       "    </tr>\n",
       "    <tr>\n",
       "      <th>4</th>\n",
       "      <td>2</td>\n",
       "      <td>5</td>\n",
       "      <td>Head and Heart</td>\n",
       "      <td>Brain Development Course</td>\n",
       "      <td>0</td>\n",
       "      <td>0</td>\n",
       "      <td>0</td>\n",
       "      <td>N</td>\n",
       "      <td>N</td>\n",
       "      <td>N</td>\n",
       "      <td>N</td>\n",
       "      <td>N</td>\n",
       "      <td>N</td>\n",
       "      <td>N</td>\n",
       "      <td>1</td>\n",
       "    </tr>\n",
       "  </tbody>\n",
       "</table>\n",
       "</div>"
      ],
      "text/plain": [
       "   Episode Number  Pitch Number                Brand  \\\n",
       "0               1             1  BluePine Industries   \n",
       "1               1             2        Booz scooters   \n",
       "2               1             3  Heart up my Sleeves   \n",
       "3               2             4           Tagz Foods   \n",
       "4               2             5       Head and Heart   \n",
       "\n",
       "                                            Idea  \\\n",
       "0                                   Frozen Momos   \n",
       "1  Renting e-bike for mobility in private spaces   \n",
       "2                             Detachable Sleeves   \n",
       "3                           Healthy Potato Chips   \n",
       "4                       Brain Development Course   \n",
       "\n",
       "   Investment Amount (In Lakhs INR)   Debt (In lakhs INR) Equity Anupam  \\\n",
       "0                                 75                    0    18%      N   \n",
       "1                                 40                    0    50%      N   \n",
       "2                                 25                    0    30%      Y   \n",
       "3                                 70                    0  2.75%      N   \n",
       "4                                  0                    0      0      N   \n",
       "\n",
       "  Ashneer Namita Aman Peyush Vineeta Ghazal  Season  \n",
       "0       Y      N    Y      N       Y      N       1  \n",
       "1       Y      N    N      N       Y      N       1  \n",
       "2       N      N    N      N       Y      N       1  \n",
       "3       Y      N    N      N       N      N       1  \n",
       "4       N      N    N      N       N      N       1  "
      ]
     },
     "execution_count": 3,
     "metadata": {},
     "output_type": "execute_result"
    }
   ],
   "source": [
    "df=pd.read_csv(\"../input/shark-tank-india/ShartankIndiaAllPitches.csv\")\n",
    "df.head() # top 5 rows"
   ]
  },
  {
   "cell_type": "code",
   "execution_count": 4,
   "id": "c315140b",
   "metadata": {
    "execution": {
     "iopub.execute_input": "2022-02-16T14:19:57.840473Z",
     "iopub.status.busy": "2022-02-16T14:19:57.839868Z",
     "iopub.status.idle": "2022-02-16T14:19:57.855974Z",
     "shell.execute_reply": "2022-02-16T14:19:57.856508Z",
     "shell.execute_reply.started": "2022-02-16T13:54:55.176170Z"
    },
    "papermill": {
     "duration": 0.044352,
     "end_time": "2022-02-16T14:19:57.856680",
     "exception": false,
     "start_time": "2022-02-16T14:19:57.812328",
     "status": "completed"
    },
    "tags": []
   },
   "outputs": [
    {
     "data": {
      "text/html": [
       "<div>\n",
       "<style scoped>\n",
       "    .dataframe tbody tr th:only-of-type {\n",
       "        vertical-align: middle;\n",
       "    }\n",
       "\n",
       "    .dataframe tbody tr th {\n",
       "        vertical-align: top;\n",
       "    }\n",
       "\n",
       "    .dataframe thead th {\n",
       "        text-align: right;\n",
       "    }\n",
       "</style>\n",
       "<table border=\"1\" class=\"dataframe\">\n",
       "  <thead>\n",
       "    <tr style=\"text-align: right;\">\n",
       "      <th></th>\n",
       "      <th>Episode Number</th>\n",
       "      <th>Pitch Number</th>\n",
       "      <th>Brand</th>\n",
       "      <th>Idea</th>\n",
       "      <th>Investment Amount (In Lakhs INR)</th>\n",
       "      <th>Debt (In lakhs INR)</th>\n",
       "      <th>Equity</th>\n",
       "      <th>Anupam</th>\n",
       "      <th>Ashneer</th>\n",
       "      <th>Namita</th>\n",
       "      <th>Aman</th>\n",
       "      <th>Peyush</th>\n",
       "      <th>Vineeta</th>\n",
       "      <th>Ghazal</th>\n",
       "      <th>Season</th>\n",
       "    </tr>\n",
       "  </thead>\n",
       "  <tbody>\n",
       "    <tr>\n",
       "      <th>112</th>\n",
       "      <td>34</td>\n",
       "      <td>113</td>\n",
       "      <td>Green Protein</td>\n",
       "      <td>Plant-Based Protein</td>\n",
       "      <td>0</td>\n",
       "      <td>0</td>\n",
       "      <td>0</td>\n",
       "      <td>N</td>\n",
       "      <td>N</td>\n",
       "      <td>N</td>\n",
       "      <td>N</td>\n",
       "      <td>N</td>\n",
       "      <td>N</td>\n",
       "      <td>N</td>\n",
       "      <td>1</td>\n",
       "    </tr>\n",
       "    <tr>\n",
       "      <th>113</th>\n",
       "      <td>34</td>\n",
       "      <td>114</td>\n",
       "      <td>On2Cook</td>\n",
       "      <td>Fastest Cooking Device</td>\n",
       "      <td>0</td>\n",
       "      <td>0</td>\n",
       "      <td>0</td>\n",
       "      <td>N</td>\n",
       "      <td>N</td>\n",
       "      <td>N</td>\n",
       "      <td>N</td>\n",
       "      <td>N</td>\n",
       "      <td>N</td>\n",
       "      <td>N</td>\n",
       "      <td>1</td>\n",
       "    </tr>\n",
       "    <tr>\n",
       "      <th>114</th>\n",
       "      <td>35</td>\n",
       "      <td>115</td>\n",
       "      <td>Jain Shikanji</td>\n",
       "      <td>Lemonade</td>\n",
       "      <td>40</td>\n",
       "      <td>0</td>\n",
       "      <td>30.00%</td>\n",
       "      <td>Y</td>\n",
       "      <td>Y</td>\n",
       "      <td>N</td>\n",
       "      <td>Y</td>\n",
       "      <td>N</td>\n",
       "      <td>Y</td>\n",
       "      <td>N</td>\n",
       "      <td>1</td>\n",
       "    </tr>\n",
       "    <tr>\n",
       "      <th>115</th>\n",
       "      <td>35</td>\n",
       "      <td>116</td>\n",
       "      <td>Woloo</td>\n",
       "      <td>Washroom Finder</td>\n",
       "      <td>0</td>\n",
       "      <td>0</td>\n",
       "      <td>0</td>\n",
       "      <td>N</td>\n",
       "      <td>N</td>\n",
       "      <td>N</td>\n",
       "      <td>N</td>\n",
       "      <td>N</td>\n",
       "      <td>N</td>\n",
       "      <td>N</td>\n",
       "      <td>1</td>\n",
       "    </tr>\n",
       "    <tr>\n",
       "      <th>116</th>\n",
       "      <td>35</td>\n",
       "      <td>117</td>\n",
       "      <td>Elcare India</td>\n",
       "      <td>Carenting for Elders</td>\n",
       "      <td>0</td>\n",
       "      <td>0</td>\n",
       "      <td>0</td>\n",
       "      <td>N</td>\n",
       "      <td>N</td>\n",
       "      <td>N</td>\n",
       "      <td>N</td>\n",
       "      <td>N</td>\n",
       "      <td>N</td>\n",
       "      <td>N</td>\n",
       "      <td>1</td>\n",
       "    </tr>\n",
       "  </tbody>\n",
       "</table>\n",
       "</div>"
      ],
      "text/plain": [
       "     Episode Number  Pitch Number          Brand                    Idea  \\\n",
       "112              34           113  Green Protein     Plant-Based Protein   \n",
       "113              34           114        On2Cook  Fastest Cooking Device   \n",
       "114              35           115  Jain Shikanji                Lemonade   \n",
       "115              35           116          Woloo         Washroom Finder   \n",
       "116              35           117   Elcare India    Carenting for Elders   \n",
       "\n",
       "     Investment Amount (In Lakhs INR)   Debt (In lakhs INR)  Equity Anupam  \\\n",
       "112                                  0                    0       0      N   \n",
       "113                                  0                    0       0      N   \n",
       "114                                 40                    0  30.00%      Y   \n",
       "115                                  0                    0       0      N   \n",
       "116                                  0                    0       0      N   \n",
       "\n",
       "    Ashneer Namita Aman Peyush Vineeta Ghazal  Season  \n",
       "112       N      N    N      N       N      N       1  \n",
       "113       N      N    N      N       N      N       1  \n",
       "114       Y      N    Y      N       Y      N       1  \n",
       "115       N      N    N      N       N      N       1  \n",
       "116       N      N    N      N       N      N       1  "
      ]
     },
     "execution_count": 4,
     "metadata": {},
     "output_type": "execute_result"
    }
   ],
   "source": [
    "df.tail() # last 5 rows"
   ]
  },
  {
   "cell_type": "code",
   "execution_count": 5,
   "id": "ffa9ed4d",
   "metadata": {
    "execution": {
     "iopub.execute_input": "2022-02-16T14:19:57.912319Z",
     "iopub.status.busy": "2022-02-16T14:19:57.911633Z",
     "iopub.status.idle": "2022-02-16T14:19:57.916329Z",
     "shell.execute_reply": "2022-02-16T14:19:57.916864Z",
     "shell.execute_reply.started": "2022-02-16T13:51:30.316434Z"
    },
    "papermill": {
     "duration": 0.034313,
     "end_time": "2022-02-16T14:19:57.917046",
     "exception": false,
     "start_time": "2022-02-16T14:19:57.882733",
     "status": "completed"
    },
    "tags": []
   },
   "outputs": [
    {
     "data": {
      "text/plain": [
       "(117, 15)"
      ]
     },
     "execution_count": 5,
     "metadata": {},
     "output_type": "execute_result"
    }
   ],
   "source": [
    "df.shape  # to get number of rows and columns in dataset"
   ]
  },
  {
   "cell_type": "markdown",
   "id": "83d996c1",
   "metadata": {
    "papermill": {
     "duration": 0.030169,
     "end_time": "2022-02-16T14:19:57.975225",
     "exception": false,
     "start_time": "2022-02-16T14:19:57.945056",
     "status": "completed"
    },
    "tags": []
   },
   "source": [
    "Next thing is to rename of some of the lengthy column names(i.e headers) for easier presentation."
   ]
  },
  {
   "cell_type": "code",
   "execution_count": 6,
   "id": "cff04fc1",
   "metadata": {
    "execution": {
     "iopub.execute_input": "2022-02-16T14:19:58.041135Z",
     "iopub.status.busy": "2022-02-16T14:19:58.040398Z",
     "iopub.status.idle": "2022-02-16T14:19:58.051428Z",
     "shell.execute_reply": "2022-02-16T14:19:58.051999Z",
     "shell.execute_reply.started": "2022-02-16T13:55:05.877926Z"
    },
    "papermill": {
     "duration": 0.045595,
     "end_time": "2022-02-16T14:19:58.052193",
     "exception": false,
     "start_time": "2022-02-16T14:19:58.006598",
     "status": "completed"
    },
    "tags": []
   },
   "outputs": [
    {
     "data": {
      "text/plain": [
       "Index(['Episode', 'Pitch_no', 'Brand', 'Idea',\n",
       "       'Investment Amount (In Lakhs INR) ', 'Debt_amt', 'Equity', 'Anupam',\n",
       "       'Ashneer', 'Namita', 'Aman', 'Peyush', 'Vineeta', 'Ghazal', 'Season'],\n",
       "      dtype='object')"
      ]
     },
     "execution_count": 6,
     "metadata": {},
     "output_type": "execute_result"
    }
   ],
   "source": [
    "df.rename(columns={\"Episode Number\":\"Episode\",\n",
    "                   \"Pitch Number\": \"Pitch_no\",\n",
    "                   \"Investment Amount (In Lakhs INR)\":\"Investment_amt\",\n",
    "                   \"Debt (In lakhs INR)\":\"Debt_amt\"},inplace=True)\n",
    "\n",
    "df.columns"
   ]
  },
  {
   "cell_type": "markdown",
   "id": "a41ad99b",
   "metadata": {
    "papermill": {
     "duration": 0.029544,
     "end_time": "2022-02-16T14:19:58.108980",
     "exception": false,
     "start_time": "2022-02-16T14:19:58.079436",
     "status": "completed"
    },
    "tags": []
   },
   "source": [
    "Let's get the statistical analysis of our dataset by using decribe() of pandas module.\n",
    "\n",
    "The actual dataset consisted of values with numerous digits after the decimal. To set it out we'll use 'precision' = 2 get a display of 2 digits after the decimal for each and every value."
   ]
  },
  {
   "cell_type": "code",
   "execution_count": 7,
   "id": "b5b0b62d",
   "metadata": {
    "execution": {
     "iopub.execute_input": "2022-02-16T14:19:58.148291Z",
     "iopub.status.busy": "2022-02-16T14:19:58.147767Z",
     "iopub.status.idle": "2022-02-16T14:19:58.174378Z",
     "shell.execute_reply": "2022-02-16T14:19:58.174826Z",
     "shell.execute_reply.started": "2022-02-16T13:56:25.671282Z"
    },
    "papermill": {
     "duration": 0.047763,
     "end_time": "2022-02-16T14:19:58.174955",
     "exception": false,
     "start_time": "2022-02-16T14:19:58.127192",
     "status": "completed"
    },
    "tags": []
   },
   "outputs": [
    {
     "data": {
      "text/html": [
       "<div>\n",
       "<style scoped>\n",
       "    .dataframe tbody tr th:only-of-type {\n",
       "        vertical-align: middle;\n",
       "    }\n",
       "\n",
       "    .dataframe tbody tr th {\n",
       "        vertical-align: top;\n",
       "    }\n",
       "\n",
       "    .dataframe thead th {\n",
       "        text-align: right;\n",
       "    }\n",
       "</style>\n",
       "<table border=\"1\" class=\"dataframe\">\n",
       "  <thead>\n",
       "    <tr style=\"text-align: right;\">\n",
       "      <th></th>\n",
       "      <th>Episode</th>\n",
       "      <th>Pitch_no</th>\n",
       "      <th>Investment Amount (In Lakhs INR)</th>\n",
       "      <th>Debt_amt</th>\n",
       "      <th>Season</th>\n",
       "    </tr>\n",
       "  </thead>\n",
       "  <tbody>\n",
       "    <tr>\n",
       "      <th>count</th>\n",
       "      <td>117.00</td>\n",
       "      <td>117.00</td>\n",
       "      <td>117.00</td>\n",
       "      <td>117.00</td>\n",
       "      <td>117.0</td>\n",
       "    </tr>\n",
       "    <tr>\n",
       "      <th>mean</th>\n",
       "      <td>18.74</td>\n",
       "      <td>59.00</td>\n",
       "      <td>21.68</td>\n",
       "      <td>2.57</td>\n",
       "      <td>1.0</td>\n",
       "    </tr>\n",
       "    <tr>\n",
       "      <th>std</th>\n",
       "      <td>10.07</td>\n",
       "      <td>33.92</td>\n",
       "      <td>26.07</td>\n",
       "      <td>11.54</td>\n",
       "      <td>0.0</td>\n",
       "    </tr>\n",
       "    <tr>\n",
       "      <th>min</th>\n",
       "      <td>1.00</td>\n",
       "      <td>1.00</td>\n",
       "      <td>0.00</td>\n",
       "      <td>0.00</td>\n",
       "      <td>1.0</td>\n",
       "    </tr>\n",
       "    <tr>\n",
       "      <th>25%</th>\n",
       "      <td>10.00</td>\n",
       "      <td>30.00</td>\n",
       "      <td>0.00</td>\n",
       "      <td>0.00</td>\n",
       "      <td>1.0</td>\n",
       "    </tr>\n",
       "    <tr>\n",
       "      <th>50%</th>\n",
       "      <td>19.00</td>\n",
       "      <td>59.00</td>\n",
       "      <td>10.00</td>\n",
       "      <td>0.00</td>\n",
       "      <td>1.0</td>\n",
       "    </tr>\n",
       "    <tr>\n",
       "      <th>75%</th>\n",
       "      <td>27.00</td>\n",
       "      <td>88.00</td>\n",
       "      <td>50.00</td>\n",
       "      <td>0.00</td>\n",
       "      <td>1.0</td>\n",
       "    </tr>\n",
       "    <tr>\n",
       "      <th>max</th>\n",
       "      <td>35.00</td>\n",
       "      <td>117.00</td>\n",
       "      <td>80.00</td>\n",
       "      <td>99.00</td>\n",
       "      <td>1.0</td>\n",
       "    </tr>\n",
       "  </tbody>\n",
       "</table>\n",
       "</div>"
      ],
      "text/plain": [
       "       Episode  Pitch_no  Investment Amount (In Lakhs INR)   Debt_amt  Season\n",
       "count   117.00    117.00                             117.00    117.00   117.0\n",
       "mean     18.74     59.00                              21.68      2.57     1.0\n",
       "std      10.07     33.92                              26.07     11.54     0.0\n",
       "min       1.00      1.00                               0.00      0.00     1.0\n",
       "25%      10.00     30.00                               0.00      0.00     1.0\n",
       "50%      19.00     59.00                              10.00      0.00     1.0\n",
       "75%      27.00     88.00                              50.00      0.00     1.0\n",
       "max      35.00    117.00                              80.00     99.00     1.0"
      ]
     },
     "execution_count": 7,
     "metadata": {},
     "output_type": "execute_result"
    }
   ],
   "source": [
    "set_option('precision',2)\n",
    "df.describe() # only number columns"
   ]
  },
  {
   "cell_type": "markdown",
   "id": "cd6f82d2",
   "metadata": {
    "papermill": {
     "duration": 0.018648,
     "end_time": "2022-02-16T14:19:58.212926",
     "exception": false,
     "start_time": "2022-02-16T14:19:58.194278",
     "status": "completed"
    },
    "tags": []
   },
   "source": [
    "If we want to see the entire dataframe with all the columns, so there's a attribute in panads called include='all'"
   ]
  },
  {
   "cell_type": "code",
   "execution_count": 8,
   "id": "2e51819c",
   "metadata": {
    "execution": {
     "iopub.execute_input": "2022-02-16T14:19:58.253111Z",
     "iopub.status.busy": "2022-02-16T14:19:58.252638Z",
     "iopub.status.idle": "2022-02-16T14:19:58.299229Z",
     "shell.execute_reply": "2022-02-16T14:19:58.298677Z",
     "shell.execute_reply.started": "2022-02-16T13:58:10.006814Z"
    },
    "papermill": {
     "duration": 0.067313,
     "end_time": "2022-02-16T14:19:58.299350",
     "exception": false,
     "start_time": "2022-02-16T14:19:58.232037",
     "status": "completed"
    },
    "tags": []
   },
   "outputs": [
    {
     "data": {
      "text/html": [
       "<div>\n",
       "<style scoped>\n",
       "    .dataframe tbody tr th:only-of-type {\n",
       "        vertical-align: middle;\n",
       "    }\n",
       "\n",
       "    .dataframe tbody tr th {\n",
       "        vertical-align: top;\n",
       "    }\n",
       "\n",
       "    .dataframe thead th {\n",
       "        text-align: right;\n",
       "    }\n",
       "</style>\n",
       "<table border=\"1\" class=\"dataframe\">\n",
       "  <thead>\n",
       "    <tr style=\"text-align: right;\">\n",
       "      <th></th>\n",
       "      <th>Episode</th>\n",
       "      <th>Pitch_no</th>\n",
       "      <th>Brand</th>\n",
       "      <th>Idea</th>\n",
       "      <th>Investment Amount (In Lakhs INR)</th>\n",
       "      <th>Debt_amt</th>\n",
       "      <th>Equity</th>\n",
       "      <th>Anupam</th>\n",
       "      <th>Ashneer</th>\n",
       "      <th>Namita</th>\n",
       "      <th>Aman</th>\n",
       "      <th>Peyush</th>\n",
       "      <th>Vineeta</th>\n",
       "      <th>Ghazal</th>\n",
       "      <th>Season</th>\n",
       "    </tr>\n",
       "  </thead>\n",
       "  <tbody>\n",
       "    <tr>\n",
       "      <th>count</th>\n",
       "      <td>117.00</td>\n",
       "      <td>117.00</td>\n",
       "      <td>117</td>\n",
       "      <td>117</td>\n",
       "      <td>117.00</td>\n",
       "      <td>117.00</td>\n",
       "      <td>117</td>\n",
       "      <td>117</td>\n",
       "      <td>117</td>\n",
       "      <td>117</td>\n",
       "      <td>117</td>\n",
       "      <td>117</td>\n",
       "      <td>117</td>\n",
       "      <td>117</td>\n",
       "      <td>117.0</td>\n",
       "    </tr>\n",
       "    <tr>\n",
       "      <th>unique</th>\n",
       "      <td>NaN</td>\n",
       "      <td>NaN</td>\n",
       "      <td>117</td>\n",
       "      <td>117</td>\n",
       "      <td>NaN</td>\n",
       "      <td>NaN</td>\n",
       "      <td>39</td>\n",
       "      <td>2</td>\n",
       "      <td>2</td>\n",
       "      <td>2</td>\n",
       "      <td>2</td>\n",
       "      <td>2</td>\n",
       "      <td>2</td>\n",
       "      <td>2</td>\n",
       "      <td>NaN</td>\n",
       "    </tr>\n",
       "    <tr>\n",
       "      <th>top</th>\n",
       "      <td>NaN</td>\n",
       "      <td>NaN</td>\n",
       "      <td>BluePine Industries</td>\n",
       "      <td>Frozen Momos</td>\n",
       "      <td>NaN</td>\n",
       "      <td>NaN</td>\n",
       "      <td>0</td>\n",
       "      <td>N</td>\n",
       "      <td>N</td>\n",
       "      <td>N</td>\n",
       "      <td>N</td>\n",
       "      <td>N</td>\n",
       "      <td>N</td>\n",
       "      <td>N</td>\n",
       "      <td>NaN</td>\n",
       "    </tr>\n",
       "    <tr>\n",
       "      <th>freq</th>\n",
       "      <td>NaN</td>\n",
       "      <td>NaN</td>\n",
       "      <td>1</td>\n",
       "      <td>1</td>\n",
       "      <td>NaN</td>\n",
       "      <td>NaN</td>\n",
       "      <td>52</td>\n",
       "      <td>93</td>\n",
       "      <td>96</td>\n",
       "      <td>95</td>\n",
       "      <td>89</td>\n",
       "      <td>90</td>\n",
       "      <td>102</td>\n",
       "      <td>110</td>\n",
       "      <td>NaN</td>\n",
       "    </tr>\n",
       "    <tr>\n",
       "      <th>mean</th>\n",
       "      <td>18.74</td>\n",
       "      <td>59.00</td>\n",
       "      <td>NaN</td>\n",
       "      <td>NaN</td>\n",
       "      <td>21.68</td>\n",
       "      <td>2.57</td>\n",
       "      <td>NaN</td>\n",
       "      <td>NaN</td>\n",
       "      <td>NaN</td>\n",
       "      <td>NaN</td>\n",
       "      <td>NaN</td>\n",
       "      <td>NaN</td>\n",
       "      <td>NaN</td>\n",
       "      <td>NaN</td>\n",
       "      <td>1.0</td>\n",
       "    </tr>\n",
       "    <tr>\n",
       "      <th>std</th>\n",
       "      <td>10.07</td>\n",
       "      <td>33.92</td>\n",
       "      <td>NaN</td>\n",
       "      <td>NaN</td>\n",
       "      <td>26.07</td>\n",
       "      <td>11.54</td>\n",
       "      <td>NaN</td>\n",
       "      <td>NaN</td>\n",
       "      <td>NaN</td>\n",
       "      <td>NaN</td>\n",
       "      <td>NaN</td>\n",
       "      <td>NaN</td>\n",
       "      <td>NaN</td>\n",
       "      <td>NaN</td>\n",
       "      <td>0.0</td>\n",
       "    </tr>\n",
       "    <tr>\n",
       "      <th>min</th>\n",
       "      <td>1.00</td>\n",
       "      <td>1.00</td>\n",
       "      <td>NaN</td>\n",
       "      <td>NaN</td>\n",
       "      <td>0.00</td>\n",
       "      <td>0.00</td>\n",
       "      <td>NaN</td>\n",
       "      <td>NaN</td>\n",
       "      <td>NaN</td>\n",
       "      <td>NaN</td>\n",
       "      <td>NaN</td>\n",
       "      <td>NaN</td>\n",
       "      <td>NaN</td>\n",
       "      <td>NaN</td>\n",
       "      <td>1.0</td>\n",
       "    </tr>\n",
       "    <tr>\n",
       "      <th>25%</th>\n",
       "      <td>10.00</td>\n",
       "      <td>30.00</td>\n",
       "      <td>NaN</td>\n",
       "      <td>NaN</td>\n",
       "      <td>0.00</td>\n",
       "      <td>0.00</td>\n",
       "      <td>NaN</td>\n",
       "      <td>NaN</td>\n",
       "      <td>NaN</td>\n",
       "      <td>NaN</td>\n",
       "      <td>NaN</td>\n",
       "      <td>NaN</td>\n",
       "      <td>NaN</td>\n",
       "      <td>NaN</td>\n",
       "      <td>1.0</td>\n",
       "    </tr>\n",
       "    <tr>\n",
       "      <th>50%</th>\n",
       "      <td>19.00</td>\n",
       "      <td>59.00</td>\n",
       "      <td>NaN</td>\n",
       "      <td>NaN</td>\n",
       "      <td>10.00</td>\n",
       "      <td>0.00</td>\n",
       "      <td>NaN</td>\n",
       "      <td>NaN</td>\n",
       "      <td>NaN</td>\n",
       "      <td>NaN</td>\n",
       "      <td>NaN</td>\n",
       "      <td>NaN</td>\n",
       "      <td>NaN</td>\n",
       "      <td>NaN</td>\n",
       "      <td>1.0</td>\n",
       "    </tr>\n",
       "    <tr>\n",
       "      <th>75%</th>\n",
       "      <td>27.00</td>\n",
       "      <td>88.00</td>\n",
       "      <td>NaN</td>\n",
       "      <td>NaN</td>\n",
       "      <td>50.00</td>\n",
       "      <td>0.00</td>\n",
       "      <td>NaN</td>\n",
       "      <td>NaN</td>\n",
       "      <td>NaN</td>\n",
       "      <td>NaN</td>\n",
       "      <td>NaN</td>\n",
       "      <td>NaN</td>\n",
       "      <td>NaN</td>\n",
       "      <td>NaN</td>\n",
       "      <td>1.0</td>\n",
       "    </tr>\n",
       "    <tr>\n",
       "      <th>max</th>\n",
       "      <td>35.00</td>\n",
       "      <td>117.00</td>\n",
       "      <td>NaN</td>\n",
       "      <td>NaN</td>\n",
       "      <td>80.00</td>\n",
       "      <td>99.00</td>\n",
       "      <td>NaN</td>\n",
       "      <td>NaN</td>\n",
       "      <td>NaN</td>\n",
       "      <td>NaN</td>\n",
       "      <td>NaN</td>\n",
       "      <td>NaN</td>\n",
       "      <td>NaN</td>\n",
       "      <td>NaN</td>\n",
       "      <td>1.0</td>\n",
       "    </tr>\n",
       "  </tbody>\n",
       "</table>\n",
       "</div>"
      ],
      "text/plain": [
       "        Episode  Pitch_no                Brand          Idea  \\\n",
       "count    117.00    117.00                  117           117   \n",
       "unique      NaN       NaN                  117           117   \n",
       "top         NaN       NaN  BluePine Industries  Frozen Momos   \n",
       "freq        NaN       NaN                    1             1   \n",
       "mean      18.74     59.00                  NaN           NaN   \n",
       "std       10.07     33.92                  NaN           NaN   \n",
       "min        1.00      1.00                  NaN           NaN   \n",
       "25%       10.00     30.00                  NaN           NaN   \n",
       "50%       19.00     59.00                  NaN           NaN   \n",
       "75%       27.00     88.00                  NaN           NaN   \n",
       "max       35.00    117.00                  NaN           NaN   \n",
       "\n",
       "        Investment Amount (In Lakhs INR)   Debt_amt Equity Anupam Ashneer  \\\n",
       "count                              117.00    117.00    117    117     117   \n",
       "unique                                NaN       NaN     39      2       2   \n",
       "top                                   NaN       NaN      0      N       N   \n",
       "freq                                  NaN       NaN     52     93      96   \n",
       "mean                                21.68      2.57    NaN    NaN     NaN   \n",
       "std                                 26.07     11.54    NaN    NaN     NaN   \n",
       "min                                  0.00      0.00    NaN    NaN     NaN   \n",
       "25%                                  0.00      0.00    NaN    NaN     NaN   \n",
       "50%                                 10.00      0.00    NaN    NaN     NaN   \n",
       "75%                                 50.00      0.00    NaN    NaN     NaN   \n",
       "max                                 80.00     99.00    NaN    NaN     NaN   \n",
       "\n",
       "       Namita Aman Peyush Vineeta Ghazal  Season  \n",
       "count     117  117    117     117    117   117.0  \n",
       "unique      2    2      2       2      2     NaN  \n",
       "top         N    N      N       N      N     NaN  \n",
       "freq       95   89     90     102    110     NaN  \n",
       "mean      NaN  NaN    NaN     NaN    NaN     1.0  \n",
       "std       NaN  NaN    NaN     NaN    NaN     0.0  \n",
       "min       NaN  NaN    NaN     NaN    NaN     1.0  \n",
       "25%       NaN  NaN    NaN     NaN    NaN     1.0  \n",
       "50%       NaN  NaN    NaN     NaN    NaN     1.0  \n",
       "75%       NaN  NaN    NaN     NaN    NaN     1.0  \n",
       "max       NaN  NaN    NaN     NaN    NaN     1.0  "
      ]
     },
     "execution_count": 8,
     "metadata": {},
     "output_type": "execute_result"
    }
   ],
   "source": [
    "df.describe(include=\"all\") # with entire columns"
   ]
  },
  {
   "cell_type": "markdown",
   "id": "e197c802",
   "metadata": {
    "papermill": {
     "duration": 0.018708,
     "end_time": "2022-02-16T14:19:58.337162",
     "exception": false,
     "start_time": "2022-02-16T14:19:58.318454",
     "status": "completed"
    },
    "tags": []
   },
   "source": [
    "Visualisation through Scatter Plot"
   ]
  },
  {
   "cell_type": "code",
   "execution_count": 9,
   "id": "c4769ccc",
   "metadata": {
    "execution": {
     "iopub.execute_input": "2022-02-16T14:19:58.378296Z",
     "iopub.status.busy": "2022-02-16T14:19:58.377723Z",
     "iopub.status.idle": "2022-02-16T14:19:58.787683Z",
     "shell.execute_reply": "2022-02-16T14:19:58.787195Z",
     "shell.execute_reply.started": "2022-02-16T14:10:15.294069Z"
    },
    "papermill": {
     "duration": 0.432052,
     "end_time": "2022-02-16T14:19:58.787789",
     "exception": false,
     "start_time": "2022-02-16T14:19:58.355737",
     "status": "completed"
    },
    "tags": []
   },
   "outputs": [
    {
     "data": {
      "image/png": "[encoded data removed]",
      "text/plain": [
       "<Figure size 720x720 with 1 Axes>"
      ]
     },
     "metadata": {
      "needs_background": "light"
     },
     "output_type": "display_data"
    }
   ],
   "source": [
    "fig=df[df.Anupam==\"Y\"].plot(kind=\"scatter\",x='Investment Amount (In Lakhs INR) ',y=\"Debt_amt\",color=\"red\",label=\"Anupam\")\n",
    "df[df.Ashneer==\"Y\"].plot(kind=\"scatter\",x='Investment Amount (In Lakhs INR) ',y=\"Debt_amt\",color=\"blue\",label=\"Ashneer\",ax=fig)\n",
    "df[df.Aman==\"Y\"].plot(kind=\"scatter\",x='Investment Amount (In Lakhs INR) ',y=\"Debt_amt\",color=\"green\",label=\"Aman\",ax=fig)\n",
    "df[df.Namita==\"Y\"].plot(kind=\"scatter\",x='Investment Amount (In Lakhs INR) ',y=\"Debt_amt\",color=\"pink\",label=\"Namita\",ax=fig)\n",
    "df[df.Peyush==\"Y\"].plot(kind=\"scatter\",x='Investment Amount (In Lakhs INR) ',y=\"Debt_amt\",color=\"violet\",label=\"Peyush\",ax=fig)\n",
    "df[df.Vineeta==\"Y\"].plot(kind=\"scatter\",x='Investment Amount (In Lakhs INR) ',y=\"Debt_amt\",color=\"black\",label=\"Vineeta\",ax=fig)\n",
    "df[df.Ghazal==\"Y\"].plot(kind=\"scatter\",x='Investment Amount (In Lakhs INR) ',y=\"Debt_amt\",color=\"yellow\",label=\"Ghazal\",ax=fig)\n",
    "\n",
    "fig.set_xlabel(\"Amount_Invested\") # Name of X axis\n",
    "fig.set_ylabel(\"Debt_Given\")  # Name of Y axis\n",
    "fig.set_title(\"INVEST VS DEBT\") # Tittle of Figure\n",
    "\n",
    "plt.gcf().set_size_inches((10, 10)) \n",
    "\"\"\"plt.gcf() is primarily used to get the current figure. \n",
    "If no current figure is available then one is created with the help of the figure() function\"\"\"\n",
    "\n",
    "\n",
    "plt.show() # to show plot"
   ]
  },
  {
   "cell_type": "markdown",
   "id": "d7f8cbf3",
   "metadata": {
    "papermill": {
     "duration": 0.019918,
     "end_time": "2022-02-16T14:19:58.827770",
     "exception": false,
     "start_time": "2022-02-16T14:19:58.807852",
     "status": "completed"
    },
    "tags": []
   },
   "source": [
    "If we wanna know about the ideas that Aman(or any other sharks) has approved, can be done like this"
   ]
  },
  {
   "cell_type": "code",
   "execution_count": 10,
   "id": "10c2e088",
   "metadata": {
    "execution": {
     "iopub.execute_input": "2022-02-16T14:19:58.886952Z",
     "iopub.status.busy": "2022-02-16T14:19:58.886434Z",
     "iopub.status.idle": "2022-02-16T14:19:58.890282Z",
     "shell.execute_reply": "2022-02-16T14:19:58.890658Z",
     "shell.execute_reply.started": "2022-02-16T14:12:47.813319Z"
    },
    "papermill": {
     "duration": 0.042734,
     "end_time": "2022-02-16T14:19:58.890795",
     "exception": false,
     "start_time": "2022-02-16T14:19:58.848061",
     "status": "completed"
    },
    "tags": []
   },
   "outputs": [
    {
     "data": {
      "text/html": [
       "<div>\n",
       "<style scoped>\n",
       "    .dataframe tbody tr th:only-of-type {\n",
       "        vertical-align: middle;\n",
       "    }\n",
       "\n",
       "    .dataframe tbody tr th {\n",
       "        vertical-align: top;\n",
       "    }\n",
       "\n",
       "    .dataframe thead th {\n",
       "        text-align: right;\n",
       "    }\n",
       "</style>\n",
       "<table border=\"1\" class=\"dataframe\">\n",
       "  <thead>\n",
       "    <tr style=\"text-align: right;\">\n",
       "      <th></th>\n",
       "      <th>Episode</th>\n",
       "      <th>Pitch_no</th>\n",
       "      <th>Brand</th>\n",
       "      <th>Idea</th>\n",
       "      <th>Investment Amount (In Lakhs INR)</th>\n",
       "      <th>Debt_amt</th>\n",
       "      <th>Equity</th>\n",
       "      <th>Anupam</th>\n",
       "      <th>Ashneer</th>\n",
       "      <th>Namita</th>\n",
       "      <th>Aman</th>\n",
       "      <th>Peyush</th>\n",
       "      <th>Vineeta</th>\n",
       "      <th>Ghazal</th>\n",
       "      <th>Season</th>\n",
       "    </tr>\n",
       "  </thead>\n",
       "  <tbody>\n",
       "    <tr>\n",
       "      <th>0</th>\n",
       "      <td>1</td>\n",
       "      <td>1</td>\n",
       "      <td>BluePine Industries</td>\n",
       "      <td>Frozen Momos</td>\n",
       "      <td>75</td>\n",
       "      <td>0</td>\n",
       "      <td>18%</td>\n",
       "      <td>N</td>\n",
       "      <td>Y</td>\n",
       "      <td>N</td>\n",
       "      <td>Y</td>\n",
       "      <td>N</td>\n",
       "      <td>Y</td>\n",
       "      <td>N</td>\n",
       "      <td>1</td>\n",
       "    </tr>\n",
       "    <tr>\n",
       "      <th>7</th>\n",
       "      <td>3</td>\n",
       "      <td>8</td>\n",
       "      <td>Peeschute</td>\n",
       "      <td>Disposable Urine Bag</td>\n",
       "      <td>75</td>\n",
       "      <td>0</td>\n",
       "      <td>6%</td>\n",
       "      <td>N</td>\n",
       "      <td>N</td>\n",
       "      <td>N</td>\n",
       "      <td>Y</td>\n",
       "      <td>N</td>\n",
       "      <td>N</td>\n",
       "      <td>N</td>\n",
       "      <td>1</td>\n",
       "    </tr>\n",
       "    <tr>\n",
       "      <th>11</th>\n",
       "      <td>4</td>\n",
       "      <td>12</td>\n",
       "      <td>Bummer</td>\n",
       "      <td>Underwear</td>\n",
       "      <td>75</td>\n",
       "      <td>0</td>\n",
       "      <td>7.50%</td>\n",
       "      <td>N</td>\n",
       "      <td>N</td>\n",
       "      <td>Y</td>\n",
       "      <td>Y</td>\n",
       "      <td>N</td>\n",
       "      <td>N</td>\n",
       "      <td>N</td>\n",
       "      <td>1</td>\n",
       "    </tr>\n",
       "    <tr>\n",
       "      <th>12</th>\n",
       "      <td>5</td>\n",
       "      <td>13</td>\n",
       "      <td>Revamp Moto</td>\n",
       "      <td>E-Bike</td>\n",
       "      <td>10</td>\n",
       "      <td>0</td>\n",
       "      <td>1.50%</td>\n",
       "      <td>Y</td>\n",
       "      <td>N</td>\n",
       "      <td>N</td>\n",
       "      <td>Y</td>\n",
       "      <td>N</td>\n",
       "      <td>N</td>\n",
       "      <td>N</td>\n",
       "      <td>1</td>\n",
       "    </tr>\n",
       "    <tr>\n",
       "      <th>15</th>\n",
       "      <td>6</td>\n",
       "      <td>16</td>\n",
       "      <td>Skippi Pops</td>\n",
       "      <td>Ice-Pops</td>\n",
       "      <td>10</td>\n",
       "      <td>0</td>\n",
       "      <td>15%</td>\n",
       "      <td>Y</td>\n",
       "      <td>Y</td>\n",
       "      <td>Y</td>\n",
       "      <td>Y</td>\n",
       "      <td>N</td>\n",
       "      <td>Y</td>\n",
       "      <td>N</td>\n",
       "      <td>1</td>\n",
       "    </tr>\n",
       "  </tbody>\n",
       "</table>\n",
       "</div>"
      ],
      "text/plain": [
       "    Episode  Pitch_no                Brand                  Idea  \\\n",
       "0         1         1  BluePine Industries          Frozen Momos   \n",
       "7         3         8            Peeschute  Disposable Urine Bag   \n",
       "11        4        12               Bummer             Underwear   \n",
       "12        5        13          Revamp Moto                E-Bike   \n",
       "15        6        16          Skippi Pops              Ice-Pops   \n",
       "\n",
       "    Investment Amount (In Lakhs INR)   Debt_amt Equity Anupam Ashneer Namita  \\\n",
       "0                                  75         0    18%      N       Y      N   \n",
       "7                                  75         0     6%      N       N      N   \n",
       "11                                 75         0  7.50%      N       N      Y   \n",
       "12                                 10         0  1.50%      Y       N      N   \n",
       "15                                 10         0    15%      Y       Y      Y   \n",
       "\n",
       "   Aman Peyush Vineeta Ghazal  Season  \n",
       "0     Y      N       Y      N       1  \n",
       "7     Y      N       N      N       1  \n",
       "11    Y      N       N      N       1  \n",
       "12    Y      N       N      N       1  \n",
       "15    Y      N       Y      N       1  "
      ]
     },
     "execution_count": 10,
     "metadata": {},
     "output_type": "execute_result"
    }
   ],
   "source": [
    "Aman=df[df.Aman==\"Y\"]\n",
    "Aman.head()"
   ]
  },
  {
   "cell_type": "code",
   "execution_count": 11,
   "id": "f46b1e67",
   "metadata": {
    "execution": {
     "iopub.execute_input": "2022-02-16T14:19:58.951848Z",
     "iopub.status.busy": "2022-02-16T14:19:58.951347Z",
     "iopub.status.idle": "2022-02-16T14:19:59.140748Z",
     "shell.execute_reply": "2022-02-16T14:19:59.141315Z",
     "shell.execute_reply.started": "2022-02-16T14:16:18.504510Z"
    },
    "papermill": {
     "duration": 0.22991,
     "end_time": "2022-02-16T14:19:59.141485",
     "exception": false,
     "start_time": "2022-02-16T14:19:58.911575",
     "status": "completed"
    },
    "tags": []
   },
   "outputs": [
    {
     "data": {
      "text/plain": [
       "<AxesSubplot:title={'center':'Investment by Aman Gupta'}>"
      ]
     },
     "execution_count": 11,
     "metadata": {},
     "output_type": "execute_result"
    },
    {
     "data": {
      "image/png": "[encoded data removed]",
      "text/plain": [
       "<Figure size 432x288 with 1 Axes>"
      ]
     },
     "metadata": {
      "needs_background": "light"
     },
     "output_type": "display_data"
    }
   ],
   "source": [
    "Aman=df[df.Aman==\"Y\"]\n",
    "Aman['Investment Amount (In Lakhs INR) '].value_counts().plot(kind=\"bar\",color=\"blue\",title=\"Investment by Aman Gupta\")"
   ]
  },
  {
   "cell_type": "code",
   "execution_count": 12,
   "id": "f13d6f50",
   "metadata": {
    "execution": {
     "iopub.execute_input": "2022-02-16T14:19:59.198814Z",
     "iopub.status.busy": "2022-02-16T14:19:59.198259Z",
     "iopub.status.idle": "2022-02-16T14:19:59.205959Z",
     "shell.execute_reply": "2022-02-16T14:19:59.206404Z",
     "shell.execute_reply.started": "2022-02-16T14:16:07.043514Z"
    },
    "papermill": {
     "duration": 0.032217,
     "end_time": "2022-02-16T14:19:59.206540",
     "exception": false,
     "start_time": "2022-02-16T14:19:59.174323",
     "status": "completed"
    },
    "tags": []
   },
   "outputs": [
    {
     "name": "stdout",
     "output_type": "stream",
     "text": [
      "Total investments made by Aman Gupta - \n",
      "\n"
     ]
    },
    {
     "data": {
      "text/plain": [
       "1060"
      ]
     },
     "execution_count": 12,
     "metadata": {},
     "output_type": "execute_result"
    }
   ],
   "source": [
    "print(\"Total investments made by Aman Gupta - \\n\")\n",
    "Aman['Investment Amount (In Lakhs INR) '].sum()"
   ]
  },
  {
   "cell_type": "markdown",
   "id": "4b1c67d6",
   "metadata": {
    "papermill": {
     "duration": 0.02249,
     "end_time": "2022-02-16T14:19:59.251908",
     "exception": false,
     "start_time": "2022-02-16T14:19:59.229418",
     "status": "completed"
    },
    "tags": []
   },
   "source": [
    "To know which brand got the highest investment with the help of visualising tool (bar graph)"
   ]
  },
  {
   "cell_type": "code",
   "execution_count": 13,
   "id": "a7fcf763",
   "metadata": {
    "execution": {
     "iopub.execute_input": "2022-02-16T14:19:59.302360Z",
     "iopub.status.busy": "2022-02-16T14:19:59.301431Z",
     "iopub.status.idle": "2022-02-16T14:19:59.588416Z",
     "shell.execute_reply": "2022-02-16T14:19:59.588917Z",
     "shell.execute_reply.started": "2022-02-16T14:19:23.792711Z"
    },
    "papermill": {
     "duration": 0.314551,
     "end_time": "2022-02-16T14:19:59.589105",
     "exception": false,
     "start_time": "2022-02-16T14:19:59.274554",
     "status": "completed"
    },
    "tags": []
   },
   "outputs": [
    {
     "data": {
      "text/html": [
       "        <script type=\"text/javascript\">\n",
       "        window.PlotlyConfig = {MathJaxConfig: 'local'};\n",
       "        if (window.MathJax) {MathJax.Hub.Config({SVG: {font: \"STIX-Web\"}});}\n",
       "        if (typeof require !== 'undefined') {\n",
       "        require.undef(\"plotly\");\n",
       "        requirejs.config({\n",
       "            paths: {\n",
       "                'plotly': ['https://cdn.plot.ly/plotly-2.8.3.min']\n",
       "            }\n",
       "        });\n",
       "        require(['plotly'], function(Plotly) {\n",
       "            window._Plotly = Plotly;\n",
       "        });\n",
       "        }\n",
       "        </script>\n",
       "        "
      ]
     },
     "metadata": {},
     "output_type": "display_data"
    },
    {
     "data": {
      "text/html": [
       "<div>                            <div id=\"f5b2f52e-f58c-44af-9546-34bd2967c04e\" class=\"plotly-graph-div\" style=\"height:525px; width:100%;\"></div>            <script type=\"text/javascript\">                require([\"plotly\"], function(Plotly) {                    window.PLOTLYENV=window.PLOTLYENV || {};                                    if (document.getElementById(\"f5b2f52e-f58c-44af-9546-34bd2967c04e\")) {                    Plotly.newPlot(                        \"f5b2f52e-f58c-44af-9546-34bd2967c04e\",                        [{\"alignmentgroup\":\"True\",\"hovertemplate\":\"Brand=%{x}<br>Investment Amount (In Lakhs INR) =%{y}<extra></extra>\",\"legendgroup\":\"Kabaddi Adda\",\"marker\":{\"color\":\"#636efa\",\"pattern\":{\"shape\":\"\"}},\"name\":\"Kabaddi Adda\",\"offsetgroup\":\"Kabaddi Adda\",\"orientation\":\"v\",\"showlegend\":true,\"textposition\":\"auto\",\"x\":[\"Kabaddi Adda\"],\"xaxis\":\"x\",\"y\":[80],\"yaxis\":\"y\",\"type\":\"bar\"},{\"alignmentgroup\":\"True\",\"hovertemplate\":\"Brand=%{x}<br>Investment Amount (In Lakhs INR) =%{y}<extra></extra>\",\"legendgroup\":\"RoadBounce\",\"marker\":{\"color\":\"#EF553B\",\"pattern\":{\"shape\":\"\"}},\"name\":\"RoadBounce\",\"offsetgroup\":\"RoadBounce\",\"orientation\":\"v\",\"showlegend\":true,\"textposition\":\"auto\",\"x\":[\"RoadBounce\"],\"xaxis\":\"x\",\"y\":[80],\"yaxis\":\"y\",\"type\":\"bar\"},{\"alignmentgroup\":\"True\",\"hovertemplate\":\"Brand=%{x}<br>Investment Amount (In Lakhs INR) =%{y}<extra></extra>\",\"legendgroup\":\"BluePine Industries\",\"marker\":{\"color\":\"#00cc96\",\"pattern\":{\"shape\":\"\"}},\"name\":\"BluePine Industries\",\"offsetgroup\":\"BluePine Industries\",\"orientation\":\"v\",\"showlegend\":true,\"textposition\":\"auto\",\"x\":[\"BluePine Industries\"],\"xaxis\":\"x\",\"y\":[75],\"yaxis\":\"y\",\"type\":\"bar\"},{\"alignmentgroup\":\"True\",\"hovertemplate\":\"Brand=%{x}<br>Investment Amount (In Lakhs INR) =%{y}<extra></extra>\",\"legendgroup\":\"Auli Lifestyle\",\"marker\":{\"color\":\"#ab63fa\",\"pattern\":{\"shape\":\"\"}},\"name\":\"Auli Lifestyle\",\"offsetgroup\":\"Auli Lifestyle\",\"orientation\":\"v\",\"showlegend\":true,\"textposition\":\"auto\",\"x\":[\"Auli Lifestyle\"],\"xaxis\":\"x\",\"y\":[75],\"yaxis\":\"y\",\"type\":\"bar\"},{\"alignmentgroup\":\"True\",\"hovertemplate\":\"Brand=%{x}<br>Investment Amount (In Lakhs INR) =%{y}<extra></extra>\",\"legendgroup\":\"AyuRythm\",\"marker\":{\"color\":\"#FFA15A\",\"pattern\":{\"shape\":\"\"}},\"name\":\"AyuRythm\",\"offsetgroup\":\"AyuRythm\",\"orientation\":\"v\",\"showlegend\":true,\"textposition\":\"auto\",\"x\":[\"AyuRythm\"],\"xaxis\":\"x\",\"y\":[75],\"yaxis\":\"y\",\"type\":\"bar\"},{\"alignmentgroup\":\"True\",\"hovertemplate\":\"Brand=%{x}<br>Investment Amount (In Lakhs INR) =%{y}<extra></extra>\",\"legendgroup\":\"Wakao Foods\",\"marker\":{\"color\":\"#19d3f3\",\"pattern\":{\"shape\":\"\"}},\"name\":\"Wakao Foods\",\"offsetgroup\":\"Wakao Foods\",\"orientation\":\"v\",\"showlegend\":true,\"textposition\":\"auto\",\"x\":[\"Wakao Foods\"],\"xaxis\":\"x\",\"y\":[75],\"yaxis\":\"y\",\"type\":\"bar\"},{\"alignmentgroup\":\"True\",\"hovertemplate\":\"Brand=%{x}<br>Investment Amount (In Lakhs INR) =%{y}<extra></extra>\",\"legendgroup\":\"Peeschute\",\"marker\":{\"color\":\"#FF6692\",\"pattern\":{\"shape\":\"\"}},\"name\":\"Peeschute\",\"offsetgroup\":\"Peeschute\",\"orientation\":\"v\",\"showlegend\":true,\"textposition\":\"auto\",\"x\":[\"Peeschute\"],\"xaxis\":\"x\",\"y\":[75],\"yaxis\":\"y\",\"type\":\"bar\"},{\"alignmentgroup\":\"True\",\"hovertemplate\":\"Brand=%{x}<br>Investment Amount (In Lakhs INR) =%{y}<extra></extra>\",\"legendgroup\":\"Bummer\",\"marker\":{\"color\":\"#B6E880\",\"pattern\":{\"shape\":\"\"}},\"name\":\"Bummer\",\"offsetgroup\":\"Bummer\",\"orientation\":\"v\",\"showlegend\":true,\"textposition\":\"auto\",\"x\":[\"Bummer\"],\"xaxis\":\"x\",\"y\":[75],\"yaxis\":\"y\",\"type\":\"bar\"},{\"alignmentgroup\":\"True\",\"hovertemplate\":\"Brand=%{x}<br>Investment Amount (In Lakhs INR) =%{y}<extra></extra>\",\"legendgroup\":\"Beyond Water\",\"marker\":{\"color\":\"#FF97FF\",\"pattern\":{\"shape\":\"\"}},\"name\":\"Beyond Water\",\"offsetgroup\":\"Beyond Water\",\"orientation\":\"v\",\"showlegend\":true,\"textposition\":\"auto\",\"x\":[\"Beyond Water\"],\"xaxis\":\"x\",\"y\":[75],\"yaxis\":\"y\",\"type\":\"bar\"},{\"alignmentgroup\":\"True\",\"hovertemplate\":\"Brand=%{x}<br>Investment Amount (In Lakhs INR) =%{y}<extra></extra>\",\"legendgroup\":\"Tagz Foods\",\"marker\":{\"color\":\"#FECB52\",\"pattern\":{\"shape\":\"\"}},\"name\":\"Tagz Foods\",\"offsetgroup\":\"Tagz Foods\",\"orientation\":\"v\",\"showlegend\":true,\"textposition\":\"auto\",\"x\":[\"Tagz Foods\"],\"xaxis\":\"x\",\"y\":[70],\"yaxis\":\"y\",\"type\":\"bar\"},{\"alignmentgroup\":\"True\",\"hovertemplate\":\"Brand=%{x}<br>Investment Amount (In Lakhs INR) =%{y}<extra></extra>\",\"legendgroup\":\"Rare Planet\",\"marker\":{\"color\":\"#636efa\",\"pattern\":{\"shape\":\"\"}},\"name\":\"Rare Planet\",\"offsetgroup\":\"Rare Planet\",\"orientation\":\"v\",\"showlegend\":true,\"textposition\":\"auto\",\"x\":[\"Rare Planet\"],\"xaxis\":\"x\",\"y\":[65],\"yaxis\":\"y\",\"type\":\"bar\"},{\"alignmentgroup\":\"True\",\"hovertemplate\":\"Brand=%{x}<br>Investment Amount (In Lakhs INR) =%{y}<extra></extra>\",\"legendgroup\":\"Tweek Labs\",\"marker\":{\"color\":\"#EF553B\",\"pattern\":{\"shape\":\"\"}},\"name\":\"Tweek Labs\",\"offsetgroup\":\"Tweek Labs\",\"orientation\":\"v\",\"showlegend\":true,\"textposition\":\"auto\",\"x\":[\"Tweek Labs\"],\"xaxis\":\"x\",\"y\":[60],\"yaxis\":\"y\",\"type\":\"bar\"},{\"alignmentgroup\":\"True\",\"hovertemplate\":\"Brand=%{x}<br>Investment Amount (In Lakhs INR) =%{y}<extra></extra>\",\"legendgroup\":\"Hair Originals\",\"marker\":{\"color\":\"#00cc96\",\"pattern\":{\"shape\":\"\"}},\"name\":\"Hair Originals\",\"offsetgroup\":\"Hair Originals\",\"orientation\":\"v\",\"showlegend\":true,\"textposition\":\"auto\",\"x\":[\"Hair Originals\"],\"xaxis\":\"x\",\"y\":[60],\"yaxis\":\"y\",\"type\":\"bar\"},{\"alignmentgroup\":\"True\",\"hovertemplate\":\"Brand=%{x}<br>Investment Amount (In Lakhs INR) =%{y}<extra></extra>\",\"legendgroup\":\"WeSTOCK\",\"marker\":{\"color\":\"#ab63fa\",\"pattern\":{\"shape\":\"\"}},\"name\":\"WeSTOCK\",\"offsetgroup\":\"WeSTOCK\",\"orientation\":\"v\",\"showlegend\":true,\"textposition\":\"auto\",\"x\":[\"WeSTOCK\"],\"xaxis\":\"x\",\"y\":[60],\"yaxis\":\"y\",\"type\":\"bar\"},{\"alignmentgroup\":\"True\",\"hovertemplate\":\"Brand=%{x}<br>Investment Amount (In Lakhs INR) =%{y}<extra></extra>\",\"legendgroup\":\"Vivalyf Innovations- Easy Life\",\"marker\":{\"color\":\"#FFA15A\",\"pattern\":{\"shape\":\"\"}},\"name\":\"Vivalyf Innovations- Easy Life\",\"offsetgroup\":\"Vivalyf Innovations- Easy Life\",\"orientation\":\"v\",\"showlegend\":true,\"textposition\":\"auto\",\"x\":[\"Vivalyf Innovations- Easy Life\"],\"xaxis\":\"x\",\"y\":[56],\"yaxis\":\"y\",\"type\":\"bar\"},{\"alignmentgroup\":\"True\",\"hovertemplate\":\"Brand=%{x}<br>Investment Amount (In Lakhs INR) =%{y}<extra></extra>\",\"legendgroup\":\"The Sass Bar\",\"marker\":{\"color\":\"#19d3f3\",\"pattern\":{\"shape\":\"\"}},\"name\":\"The Sass Bar\",\"offsetgroup\":\"The Sass Bar\",\"orientation\":\"v\",\"showlegend\":true,\"textposition\":\"auto\",\"x\":[\"The Sass Bar\"],\"xaxis\":\"x\",\"y\":[50],\"yaxis\":\"y\",\"type\":\"bar\"},{\"alignmentgroup\":\"True\",\"hovertemplate\":\"Brand=%{x}<br>Investment Amount (In Lakhs INR) =%{y}<extra></extra>\",\"legendgroup\":\"GrowFitter\",\"marker\":{\"color\":\"#FF6692\",\"pattern\":{\"shape\":\"\"}},\"name\":\"GrowFitter\",\"offsetgroup\":\"GrowFitter\",\"orientation\":\"v\",\"showlegend\":true,\"textposition\":\"auto\",\"x\":[\"GrowFitter\"],\"xaxis\":\"x\",\"y\":[50],\"yaxis\":\"y\",\"type\":\"bar\"},{\"alignmentgroup\":\"True\",\"hovertemplate\":\"Brand=%{x}<br>Investment Amount (In Lakhs INR) =%{y}<extra></extra>\",\"legendgroup\":\"Cosiq\",\"marker\":{\"color\":\"#B6E880\",\"pattern\":{\"shape\":\"\"}},\"name\":\"Cosiq\",\"offsetgroup\":\"Cosiq\",\"orientation\":\"v\",\"showlegend\":true,\"textposition\":\"auto\",\"x\":[\"Cosiq\"],\"xaxis\":\"x\",\"y\":[50],\"yaxis\":\"y\",\"type\":\"bar\"},{\"alignmentgroup\":\"True\",\"hovertemplate\":\"Brand=%{x}<br>Investment Amount (In Lakhs INR) =%{y}<extra></extra>\",\"legendgroup\":\"ARRCOAT Surface Textures\",\"marker\":{\"color\":\"#FF97FF\",\"pattern\":{\"shape\":\"\"}},\"name\":\"ARRCOAT Surface Textures\",\"offsetgroup\":\"ARRCOAT Surface Textures\",\"orientation\":\"v\",\"showlegend\":true,\"textposition\":\"auto\",\"x\":[\"ARRCOAT Surface Textures\"],\"xaxis\":\"x\",\"y\":[50],\"yaxis\":\"y\",\"type\":\"bar\"},{\"alignmentgroup\":\"True\",\"hovertemplate\":\"Brand=%{x}<br>Investment Amount (In Lakhs INR) =%{y}<extra></extra>\",\"legendgroup\":\"Caragreen\",\"marker\":{\"color\":\"#FECB52\",\"pattern\":{\"shape\":\"\"}},\"name\":\"Caragreen\",\"offsetgroup\":\"Caragreen\",\"orientation\":\"v\",\"showlegend\":true,\"textposition\":\"auto\",\"x\":[\"Caragreen\"],\"xaxis\":\"x\",\"y\":[50],\"yaxis\":\"y\",\"type\":\"bar\"}],                        {\"template\":{\"data\":{\"bar\":[{\"error_x\":{\"color\":\"#f2f5fa\"},\"error_y\":{\"color\":\"#f2f5fa\"},\"marker\":{\"line\":{\"color\":\"rgb(17,17,17)\",\"width\":0.5},\"pattern\":{\"fillmode\":\"overlay\",\"size\":10,\"solidity\":0.2}},\"type\":\"bar\"}],\"barpolar\":[{\"marker\":{\"line\":{\"color\":\"rgb(17,17,17)\",\"width\":0.5},\"pattern\":{\"fillmode\":\"overlay\",\"size\":10,\"solidity\":0.2}},\"type\":\"barpolar\"}],\"carpet\":[{\"aaxis\":{\"endlinecolor\":\"#A2B1C6\",\"gridcolor\":\"#506784\",\"linecolor\":\"#506784\",\"minorgridcolor\":\"#506784\",\"startlinecolor\":\"#A2B1C6\"},\"baxis\":{\"endlinecolor\":\"#A2B1C6\",\"gridcolor\":\"#506784\",\"linecolor\":\"#506784\",\"minorgridcolor\":\"#506784\",\"startlinecolor\":\"#A2B1C6\"},\"type\":\"carpet\"}],\"choropleth\":[{\"colorbar\":{\"outlinewidth\":0,\"ticks\":\"\"},\"type\":\"choropleth\"}],\"contour\":[{\"colorbar\":{\"outlinewidth\":0,\"ticks\":\"\"},\"colorscale\":[[0.0,\"#0d0887\"],[0.1111111111111111,\"#46039f\"],[0.2222222222222222,\"#7201a8\"],[0.3333333333333333,\"#9c179e\"],[0.4444444444444444,\"#bd3786\"],[0.5555555555555556,\"#d8576b\"],[0.6666666666666666,\"#ed7953\"],[0.7777777777777778,\"#fb9f3a\"],[0.8888888888888888,\"#fdca26\"],[1.0,\"#f0f921\"]],\"type\":\"contour\"}],\"contourcarpet\":[{\"colorbar\":{\"outlinewidth\":0,\"ticks\":\"\"},\"type\":\"contourcarpet\"}],\"heatmap\":[{\"colorbar\":{\"outlinewidth\":0,\"ticks\":\"\"},\"colorscale\":[[0.0,\"#0d0887\"],[0.1111111111111111,\"#46039f\"],[0.2222222222222222,\"#7201a8\"],[0.3333333333333333,\"#9c179e\"],[0.4444444444444444,\"#bd3786\"],[0.5555555555555556,\"#d8576b\"],[0.6666666666666666,\"#ed7953\"],[0.7777777777777778,\"#fb9f3a\"],[0.8888888888888888,\"#fdca26\"],[1.0,\"#f0f921\"]],\"type\":\"heatmap\"}],\"heatmapgl\":[{\"colorbar\":{\"outlinewidth\":0,\"ticks\":\"\"},\"colorscale\":[[0.0,\"#0d0887\"],[0.1111111111111111,\"#46039f\"],[0.2222222222222222,\"#7201a8\"],[0.3333333333333333,\"#9c179e\"],[0.4444444444444444,\"#bd3786\"],[0.5555555555555556,\"#d8576b\"],[0.6666666666666666,\"#ed7953\"],[0.7777777777777778,\"#fb9f3a\"],[0.8888888888888888,\"#fdca26\"],[1.0,\"#f0f921\"]],\"type\":\"heatmapgl\"}],\"histogram\":[{\"marker\":{\"pattern\":{\"fillmode\":\"overlay\",\"size\":10,\"solidity\":0.2}},\"type\":\"histogram\"}],\"histogram2d\":[{\"colorbar\":{\"outlinewidth\":0,\"ticks\":\"\"},\"colorscale\":[[0.0,\"#0d0887\"],[0.1111111111111111,\"#46039f\"],[0.2222222222222222,\"#7201a8\"],[0.3333333333333333,\"#9c179e\"],[0.4444444444444444,\"#bd3786\"],[0.5555555555555556,\"#d8576b\"],[0.6666666666666666,\"#ed7953\"],[0.7777777777777778,\"#fb9f3a\"],[0.8888888888888888,\"#fdca26\"],[1.0,\"#f0f921\"]],\"type\":\"histogram2d\"}],\"histogram2dcontour\":[{\"colorbar\":{\"outlinewidth\":0,\"ticks\":\"\"},\"colorscale\":[[0.0,\"#0d0887\"],[0.1111111111111111,\"#46039f\"],[0.2222222222222222,\"#7201a8\"],[0.3333333333333333,\"#9c179e\"],[0.4444444444444444,\"#bd3786\"],[0.5555555555555556,\"#d8576b\"],[0.6666666666666666,\"#ed7953\"],[0.7777777777777778,\"#fb9f3a\"],[0.8888888888888888,\"#fdca26\"],[1.0,\"#f0f921\"]],\"type\":\"histogram2dcontour\"}],\"mesh3d\":[{\"colorbar\":{\"outlinewidth\":0,\"ticks\":\"\"},\"type\":\"mesh3d\"}],\"parcoords\":[{\"line\":{\"colorbar\":{\"outlinewidth\":0,\"ticks\":\"\"}},\"type\":\"parcoords\"}],\"pie\":[{\"automargin\":true,\"type\":\"pie\"}],\"scatter\":[{\"marker\":{\"line\":{\"color\":\"#283442\"}},\"type\":\"scatter\"}],\"scatter3d\":[{\"line\":{\"colorbar\":{\"outlinewidth\":0,\"ticks\":\"\"}},\"marker\":{\"colorbar\":{\"outlinewidth\":0,\"ticks\":\"\"}},\"type\":\"scatter3d\"}],\"scattercarpet\":[{\"marker\":{\"colorbar\":{\"outlinewidth\":0,\"ticks\":\"\"}},\"type\":\"scattercarpet\"}],\"scattergeo\":[{\"marker\":{\"colorbar\":{\"outlinewidth\":0,\"ticks\":\"\"}},\"type\":\"scattergeo\"}],\"scattergl\":[{\"marker\":{\"line\":{\"color\":\"#283442\"}},\"type\":\"scattergl\"}],\"scattermapbox\":[{\"marker\":{\"colorbar\":{\"outlinewidth\":0,\"ticks\":\"\"}},\"type\":\"scattermapbox\"}],\"scatterpolar\":[{\"marker\":{\"colorbar\":{\"outlinewidth\":0,\"ticks\":\"\"}},\"type\":\"scatterpolar\"}],\"scatterpolargl\":[{\"marker\":{\"colorbar\":{\"outlinewidth\":0,\"ticks\":\"\"}},\"type\":\"scatterpolargl\"}],\"scatterternary\":[{\"marker\":{\"colorbar\":{\"outlinewidth\":0,\"ticks\":\"\"}},\"type\":\"scatterternary\"}],\"surface\":[{\"colorbar\":{\"outlinewidth\":0,\"ticks\":\"\"},\"colorscale\":[[0.0,\"#0d0887\"],[0.1111111111111111,\"#46039f\"],[0.2222222222222222,\"#7201a8\"],[0.3333333333333333,\"#9c179e\"],[0.4444444444444444,\"#bd3786\"],[0.5555555555555556,\"#d8576b\"],[0.6666666666666666,\"#ed7953\"],[0.7777777777777778,\"#fb9f3a\"],[0.8888888888888888,\"#fdca26\"],[1.0,\"#f0f921\"]],\"type\":\"surface\"}],\"table\":[{\"cells\":{\"fill\":{\"color\":\"#506784\"},\"line\":{\"color\":\"rgb(17,17,17)\"}},\"header\":{\"fill\":{\"color\":\"#2a3f5f\"},\"line\":{\"color\":\"rgb(17,17,17)\"}},\"type\":\"table\"}]},\"layout\":{\"annotationdefaults\":{\"arrowcolor\":\"#f2f5fa\",\"arrowhead\":0,\"arrowwidth\":1},\"autotypenumbers\":\"strict\",\"coloraxis\":{\"colorbar\":{\"outlinewidth\":0,\"ticks\":\"\"}},\"colorscale\":{\"diverging\":[[0,\"#8e0152\"],[0.1,\"#c51b7d\"],[0.2,\"#de77ae\"],[0.3,\"#f1b6da\"],[0.4,\"#fde0ef\"],[0.5,\"#f7f7f7\"],[0.6,\"#e6f5d0\"],[0.7,\"#b8e186\"],[0.8,\"#7fbc41\"],[0.9,\"#4d9221\"],[1,\"#276419\"]],\"sequential\":[[0.0,\"#0d0887\"],[0.1111111111111111,\"#46039f\"],[0.2222222222222222,\"#7201a8\"],[0.3333333333333333,\"#9c179e\"],[0.4444444444444444,\"#bd3786\"],[0.5555555555555556,\"#d8576b\"],[0.6666666666666666,\"#ed7953\"],[0.7777777777777778,\"#fb9f3a\"],[0.8888888888888888,\"#fdca26\"],[1.0,\"#f0f921\"]],\"sequentialminus\":[[0.0,\"#0d0887\"],[0.1111111111111111,\"#46039f\"],[0.2222222222222222,\"#7201a8\"],[0.3333333333333333,\"#9c179e\"],[0.4444444444444444,\"#bd3786\"],[0.5555555555555556,\"#d8576b\"],[0.6666666666666666,\"#ed7953\"],[0.7777777777777778,\"#fb9f3a\"],[0.8888888888888888,\"#fdca26\"],[1.0,\"#f0f921\"]]},\"colorway\":[\"#636efa\",\"#EF553B\",\"#00cc96\",\"#ab63fa\",\"#FFA15A\",\"#19d3f3\",\"#FF6692\",\"#B6E880\",\"#FF97FF\",\"#FECB52\"],\"font\":{\"color\":\"#f2f5fa\"},\"geo\":{\"bgcolor\":\"rgb(17,17,17)\",\"lakecolor\":\"rgb(17,17,17)\",\"landcolor\":\"rgb(17,17,17)\",\"showlakes\":true,\"showland\":true,\"subunitcolor\":\"#506784\"},\"hoverlabel\":{\"align\":\"left\"},\"hovermode\":\"closest\",\"mapbox\":{\"style\":\"dark\"},\"paper_bgcolor\":\"rgb(17,17,17)\",\"plot_bgcolor\":\"rgb(17,17,17)\",\"polar\":{\"angularaxis\":{\"gridcolor\":\"#506784\",\"linecolor\":\"#506784\",\"ticks\":\"\"},\"bgcolor\":\"rgb(17,17,17)\",\"radialaxis\":{\"gridcolor\":\"#506784\",\"linecolor\":\"#506784\",\"ticks\":\"\"}},\"scene\":{\"xaxis\":{\"backgroundcolor\":\"rgb(17,17,17)\",\"gridcolor\":\"#506784\",\"gridwidth\":2,\"linecolor\":\"#506784\",\"showbackground\":true,\"ticks\":\"\",\"zerolinecolor\":\"#C8D4E3\"},\"yaxis\":{\"backgroundcolor\":\"rgb(17,17,17)\",\"gridcolor\":\"#506784\",\"gridwidth\":2,\"linecolor\":\"#506784\",\"showbackground\":true,\"ticks\":\"\",\"zerolinecolor\":\"#C8D4E3\"},\"zaxis\":{\"backgroundcolor\":\"rgb(17,17,17)\",\"gridcolor\":\"#506784\",\"gridwidth\":2,\"linecolor\":\"#506784\",\"showbackground\":true,\"ticks\":\"\",\"zerolinecolor\":\"#C8D4E3\"}},\"shapedefaults\":{\"line\":{\"color\":\"#f2f5fa\"}},\"sliderdefaults\":{\"bgcolor\":\"#C8D4E3\",\"bordercolor\":\"rgb(17,17,17)\",\"borderwidth\":1,\"tickwidth\":0},\"ternary\":{\"aaxis\":{\"gridcolor\":\"#506784\",\"linecolor\":\"#506784\",\"ticks\":\"\"},\"baxis\":{\"gridcolor\":\"#506784\",\"linecolor\":\"#506784\",\"ticks\":\"\"},\"bgcolor\":\"rgb(17,17,17)\",\"caxis\":{\"gridcolor\":\"#506784\",\"linecolor\":\"#506784\",\"ticks\":\"\"}},\"title\":{\"x\":0.05},\"updatemenudefaults\":{\"bgcolor\":\"#506784\",\"borderwidth\":0},\"xaxis\":{\"automargin\":true,\"gridcolor\":\"#283442\",\"linecolor\":\"#506784\",\"ticks\":\"\",\"title\":{\"standoff\":15},\"zerolinecolor\":\"#283442\",\"zerolinewidth\":2},\"yaxis\":{\"automargin\":true,\"gridcolor\":\"#283442\",\"linecolor\":\"#506784\",\"ticks\":\"\",\"title\":{\"standoff\":15},\"zerolinecolor\":\"#283442\",\"zerolinewidth\":2}}},\"xaxis\":{\"anchor\":\"y\",\"domain\":[0.0,1.0],\"title\":{\"text\":\"Brand\"},\"categoryorder\":\"array\",\"categoryarray\":[\"Kabaddi Adda\",\"RoadBounce\",\"BluePine Industries\",\"Auli Lifestyle\",\"AyuRythm\",\"Wakao Foods\",\"Peeschute\",\"Bummer\",\"Beyond Water\",\"Tagz Foods\",\"Rare Planet\",\"Tweek Labs\",\"Hair Originals\",\"WeSTOCK\",\"Vivalyf Innovations- Easy Life\",\"The Sass Bar\",\"GrowFitter\",\"Cosiq\",\"ARRCOAT Surface Textures\",\"Caragreen\"]},\"yaxis\":{\"anchor\":\"x\",\"domain\":[0.0,1.0],\"title\":{\"text\":\"Investment Amount (In Lakhs INR) \"}},\"legend\":{\"title\":{\"text\":\"Brand\"},\"tracegroupgap\":0},\"title\":{\"text\":\"Highest Investment to Brands\"},\"barmode\":\"relative\"},                        {\"responsive\": true}                    ).then(function(){\n",
       "                            \n",
       "var gd = document.getElementById('f5b2f52e-f58c-44af-9546-34bd2967c04e');\n",
       "var x = new MutationObserver(function (mutations, observer) {{\n",
       "        var display = window.getComputedStyle(gd).display;\n",
       "        if (!display || display === 'none') {{\n",
       "            console.log([gd, 'removed!']);\n",
       "            Plotly.purge(gd);\n",
       "            observer.disconnect();\n",
       "        }}\n",
       "}});\n",
       "\n",
       "// Listen for the removal of the full notebook cells\n",
       "var notebookContainer = gd.closest('#notebook-container');\n",
       "if (notebookContainer) {{\n",
       "    x.observe(notebookContainer, {childList: true});\n",
       "}}\n",
       "\n",
       "// Listen for the clearing of the current output cell\n",
       "var outputEl = gd.closest('.output');\n",
       "if (outputEl) {{\n",
       "    x.observe(outputEl, {childList: true});\n",
       "}}\n",
       "\n",
       "                        })                };                });            </script>        </div>"
      ]
     },
     "metadata": {},
     "output_type": "display_data"
    }
   ],
   "source": [
    "x=df.sort_values('Investment Amount (In Lakhs INR) ',ascending=False)\n",
    "\n",
    "fig=px.bar(x[0:20],x=\"Brand\",y='Investment Amount (In Lakhs INR) ',color=\"Brand\",title=\"Highest Investment to Brands\")\n",
    "fig.show()"
   ]
  },
  {
   "cell_type": "code",
   "execution_count": null,
   "id": "cab95ea0",
   "metadata": {
    "papermill": {
     "duration": 0.034792,
     "end_time": "2022-02-16T14:19:59.658950",
     "exception": false,
     "start_time": "2022-02-16T14:19:59.624158",
     "status": "completed"
    },
    "tags": []
   },
   "outputs": [],
   "source": []
  }
 ],
 "metadata": {
  "kernelspec": {
   "display_name": "Python 3",
   "language": "python",
   "name": "python3"
  },
  "language_info": {
   "codemirror_mode": {
    "name": "ipython",
    "version": 3
   },
   "file_extension": ".py",
   "mimetype": "text/x-python",
   "name": "python",
   "nbconvert_exporter": "python",
   "pygments_lexer": "ipython3",
   "version": "3.7.12"
  },
  "papermill": {
   "default_parameters": {},
   "duration": 14.352348,
   "end_time": "2022-02-16T14:20:00.705139",
   "environment_variables": {},
   "exception": null,
   "input_path": "__notebook__.ipynb",
   "output_path": "__notebook__.ipynb",
   "parameters": {},
   "start_time": "2022-02-16T14:19:46.352791",
   "version": "2.3.3"
  }
 },
 "nbformat": 4,
 "nbformat_minor": 5
}
